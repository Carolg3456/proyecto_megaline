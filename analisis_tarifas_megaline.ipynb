{
 "cells": [
  {
   "cell_type": "markdown",
   "metadata": {
    "id": "3rYiDeEH0q0f"
   },
   "source": [
    "# Análisis comparativo de tarifas móviles - Megaline\n",
    "\n",
    "En este proyecto se realizará un análisis exploratorio de datos de la empresa de telecomunicaciones Megaline, enfocándose en la comparación de dos planes prepago: Surf y Ultimate. El objetivo principal es identificar cuál de estas tarifas genera mayores ingresos, lo cual permitirá orientar decisiones estratégicas relacionadas con la asignación del presupuesto publicitario.\n",
    "\n",
    "Se utilizará una muestra representativa de 500 clientes, para la cual se dispone de información relevante como el perfil del usuario, su ubicación geográfica, la tarifa contratada, así como el uso mensual de llamadas y mensajes de texto durante el año 2018. A partir de estos datos, se trazará un análisis detallado del comportamiento de los usuarios según el plan, se visualizarán las tendencias de consumo y se calcularán los ingresos generados por cada cliente. Esto permitirá establecer conclusiones claras sobre la rentabilidad de cada tarifa.\n",
    "\n"
   ]
  },
  {
   "cell_type": "markdown",
   "metadata": {
    "id": "MQi4IPy70q0y"
   },
   "source": [
    "## Inicialización"
   ]
  },
  {
   "cell_type": "code",
   "execution_count": 1,
   "metadata": {
    "id": "MtYIuBxu0q0z"
   },
   "outputs": [],
   "source": [
    "# Cargar todas las librerías\n",
    "import pandas as pd\n",
    "import numpy as np\n",
    "import matplotlib.pyplot as plt\n",
    "import seaborn as sns\n",
    "from scipy import stats\n",
    "import scipy.stats as st\n",
    "\n"
   ]
  },
  {
   "cell_type": "markdown",
   "metadata": {
    "id": "4ysWWC5i0q00"
   },
   "source": [
    "## Cargar datos"
   ]
  },
  {
   "cell_type": "code",
   "execution_count": 2,
   "metadata": {
    "id": "CCqPW7rS0q01"
   },
   "outputs": [],
   "source": [
    "# Carga los archivos de datos en diferentes DataFrames\n",
    "calls = pd.read_csv(\"/datasets/megaline_calls.csv\")\n",
    "messages = pd.read_csv(\"/datasets/megaline_messages.csv\")\n",
    "internet = pd.read_csv(\"/datasets/megaline_internet.csv\")\n",
    "plans = pd.read_csv(\"/datasets/megaline_plans.csv\")\n",
    "users = pd.read_csv(\"/datasets/megaline_users.csv\")\n"
   ]
  },
  {
   "cell_type": "markdown",
   "metadata": {
    "id": "69qqoJ3r0q01"
   },
   "source": [
    "## Preparar los datos"
   ]
  },
  {
   "cell_type": "markdown",
   "metadata": {
    "id": "ohBhimvH0q01"
   },
   "source": [
    "## Tarifas"
   ]
  },
  {
   "cell_type": "code",
   "execution_count": 3,
   "metadata": {
    "id": "GptqP3Q40q02"
   },
   "outputs": [
    {
     "name": "stdout",
     "output_type": "stream",
     "text": [
      "\n",
      "Información del DataFrame: calls\n",
      "<class 'pandas.core.frame.DataFrame'>\n",
      "RangeIndex: 137735 entries, 0 to 137734\n",
      "Data columns (total 4 columns):\n",
      " #   Column     Non-Null Count   Dtype  \n",
      "---  ------     --------------   -----  \n",
      " 0   id         137735 non-null  object \n",
      " 1   user_id    137735 non-null  int64  \n",
      " 2   call_date  137735 non-null  object \n",
      " 3   duration   137735 non-null  float64\n",
      "dtypes: float64(1), int64(1), object(2)\n",
      "memory usage: 4.2+ MB\n",
      "None\n",
      "         id  user_id   call_date  duration\n",
      "0   1000_93     1000  2018-12-27      8.52\n",
      "1  1000_145     1000  2018-12-27     13.66\n",
      "2  1000_247     1000  2018-12-27     14.48\n",
      "3  1000_309     1000  2018-12-28      5.76\n",
      "4  1000_380     1000  2018-12-30      4.22\n",
      "--------------------------------------------------\n",
      "\n",
      "Información del DataFrame: messages\n",
      "<class 'pandas.core.frame.DataFrame'>\n",
      "RangeIndex: 76051 entries, 0 to 76050\n",
      "Data columns (total 3 columns):\n",
      " #   Column        Non-Null Count  Dtype \n",
      "---  ------        --------------  ----- \n",
      " 0   id            76051 non-null  object\n",
      " 1   user_id       76051 non-null  int64 \n",
      " 2   message_date  76051 non-null  object\n",
      "dtypes: int64(1), object(2)\n",
      "memory usage: 1.7+ MB\n",
      "None\n",
      "         id  user_id message_date\n",
      "0  1000_125     1000   2018-12-27\n",
      "1  1000_160     1000   2018-12-31\n",
      "2  1000_223     1000   2018-12-31\n",
      "3  1000_251     1000   2018-12-27\n",
      "4  1000_255     1000   2018-12-26\n",
      "--------------------------------------------------\n",
      "\n",
      "Información del DataFrame: internet\n",
      "<class 'pandas.core.frame.DataFrame'>\n",
      "RangeIndex: 104825 entries, 0 to 104824\n",
      "Data columns (total 4 columns):\n",
      " #   Column        Non-Null Count   Dtype  \n",
      "---  ------        --------------   -----  \n",
      " 0   id            104825 non-null  object \n",
      " 1   user_id       104825 non-null  int64  \n",
      " 2   session_date  104825 non-null  object \n",
      " 3   mb_used       104825 non-null  float64\n",
      "dtypes: float64(1), int64(1), object(2)\n",
      "memory usage: 3.2+ MB\n",
      "None\n",
      "         id  user_id session_date  mb_used\n",
      "0   1000_13     1000   2018-12-29    89.86\n",
      "1  1000_204     1000   2018-12-31     0.00\n",
      "2  1000_379     1000   2018-12-28   660.40\n",
      "3  1000_413     1000   2018-12-26   270.99\n",
      "4  1000_442     1000   2018-12-27   880.22\n",
      "--------------------------------------------------\n",
      "\n",
      "Información del DataFrame: plans\n",
      "<class 'pandas.core.frame.DataFrame'>\n",
      "RangeIndex: 2 entries, 0 to 1\n",
      "Data columns (total 8 columns):\n",
      " #   Column                 Non-Null Count  Dtype  \n",
      "---  ------                 --------------  -----  \n",
      " 0   messages_included      2 non-null      int64  \n",
      " 1   mb_per_month_included  2 non-null      int64  \n",
      " 2   minutes_included       2 non-null      int64  \n",
      " 3   usd_monthly_pay        2 non-null      int64  \n",
      " 4   usd_per_gb             2 non-null      int64  \n",
      " 5   usd_per_message        2 non-null      float64\n",
      " 6   usd_per_minute         2 non-null      float64\n",
      " 7   plan_name              2 non-null      object \n",
      "dtypes: float64(2), int64(5), object(1)\n",
      "memory usage: 256.0+ bytes\n",
      "None\n",
      "   messages_included  mb_per_month_included  minutes_included  \\\n",
      "0                 50                  15360               500   \n",
      "1               1000                  30720              3000   \n",
      "\n",
      "   usd_monthly_pay  usd_per_gb  usd_per_message  usd_per_minute plan_name  \n",
      "0               20          10             0.03            0.03      surf  \n",
      "1               70           7             0.01            0.01  ultimate  \n",
      "--------------------------------------------------\n",
      "\n",
      "Información del DataFrame: users\n",
      "<class 'pandas.core.frame.DataFrame'>\n",
      "RangeIndex: 500 entries, 0 to 499\n",
      "Data columns (total 8 columns):\n",
      " #   Column      Non-Null Count  Dtype \n",
      "---  ------      --------------  ----- \n",
      " 0   user_id     500 non-null    int64 \n",
      " 1   first_name  500 non-null    object\n",
      " 2   last_name   500 non-null    object\n",
      " 3   age         500 non-null    int64 \n",
      " 4   city        500 non-null    object\n",
      " 5   reg_date    500 non-null    object\n",
      " 6   plan        500 non-null    object\n",
      " 7   churn_date  34 non-null     object\n",
      "dtypes: int64(2), object(6)\n",
      "memory usage: 31.4+ KB\n",
      "None\n",
      "   user_id first_name  last_name  age                                   city  \\\n",
      "0     1000   Anamaria      Bauer   45  Atlanta-Sandy Springs-Roswell, GA MSA   \n",
      "1     1001     Mickey  Wilkerson   28        Seattle-Tacoma-Bellevue, WA MSA   \n",
      "2     1002     Carlee    Hoffman   36   Las Vegas-Henderson-Paradise, NV MSA   \n",
      "3     1003   Reynaldo    Jenkins   52                          Tulsa, OK MSA   \n",
      "4     1004    Leonila   Thompson   40        Seattle-Tacoma-Bellevue, WA MSA   \n",
      "\n",
      "     reg_date      plan churn_date  \n",
      "0  2018-12-24  ultimate        NaN  \n",
      "1  2018-08-13      surf        NaN  \n",
      "2  2018-10-21      surf        NaN  \n",
      "3  2018-01-28      surf        NaN  \n",
      "4  2018-05-23      surf        NaN  \n",
      "--------------------------------------------------\n"
     ]
    }
   ],
   "source": [
    "# Imprime la información general/resumida sobre el DataFrame de las tarifas\n",
    "dataframes = {\n",
    "    \"calls\": calls,\n",
    "    \"messages\": messages,\n",
    "    \"internet\": internet,\n",
    "    \"plans\": plans,\n",
    "    \"users\": users\n",
    "}\n",
    "for name, df in dataframes.items():\n",
    "    print(f\"\\nInformación del DataFrame: {name}\")\n",
    "    print(df.info())\n",
    "    print(df.head())\n",
    "    print(\"-\" * 50)\n"
   ]
  },
  {
   "cell_type": "code",
   "execution_count": 4,
   "metadata": {
    "id": "64xzjwL70q02"
   },
   "outputs": [
    {
     "name": "stdout",
     "output_type": "stream",
     "text": [
      "\n",
      "Información general de planes:\n",
      "<class 'pandas.core.frame.DataFrame'>\n",
      "RangeIndex: 2 entries, 0 to 1\n",
      "Data columns (total 8 columns):\n",
      " #   Column                 Non-Null Count  Dtype  \n",
      "---  ------                 --------------  -----  \n",
      " 0   messages_included      2 non-null      int64  \n",
      " 1   mb_per_month_included  2 non-null      int64  \n",
      " 2   minutes_included       2 non-null      int64  \n",
      " 3   usd_monthly_pay        2 non-null      int64  \n",
      " 4   usd_per_gb             2 non-null      int64  \n",
      " 5   usd_per_message        2 non-null      float64\n",
      " 6   usd_per_minute         2 non-null      float64\n",
      " 7   plan_name              2 non-null      object \n",
      "dtypes: float64(2), int64(5), object(1)\n",
      "memory usage: 256.0+ bytes\n",
      "None\n",
      "\n",
      "Muestra de datos de planes:\n",
      "   messages_included  mb_per_month_included  minutes_included  \\\n",
      "0                 50                  15360               500   \n",
      "1               1000                  30720              3000   \n",
      "\n",
      "   usd_monthly_pay  usd_per_gb  usd_per_message  usd_per_minute plan_name  \n",
      "0               20          10             0.03            0.03      surf  \n",
      "1               70           7             0.01            0.01  ultimate  \n"
     ]
    }
   ],
   "source": [
    "# Imprime una muestra de los datos para las tarifas\n",
    "print(\"\\nInformación general de planes:\")\n",
    "print(plans.info())\n",
    "print(\"\\nMuestra de datos de planes:\")\n",
    "print(plans.head())\n"
   ]
  },
  {
   "cell_type": "markdown",
   "metadata": {
    "id": "mEc_3_hs0q02"
   },
   "source": [
    "# Revisión y transformación inicial de los datos\n",
    "\n",
    "Antes de proceder con el análisis, se realizará una revisión del tipo de datos y de la consistencia en cada uno de los DataFrames:\n",
    "\n",
    "En calls, la columna call_date se encuentra en formato object, por lo que se convertirá al tipo de dato datetime. Además, la columna duration contiene valores decimales, pero dado que la facturación se realiza por minutos completos, se redondeará cada valor hacia arriba al entero más próximo.\n",
    "\n",
    "En messages, la columna message_date también está en formato object y se convertirá al tipo datetime para facilitar el análisis temporal.\n",
    "\n",
    "En internet, la columna session_date será igualmente transformada al formato datetime, ya que actualmente se encuentra como object.\n",
    "\n",
    "En plans, no se han identificado valores nulos y todas las columnas presentan tipos de datos correctos (int64, float64, object), por lo que no se requieren transformaciones en esta tabla.\n",
    "\n",
    "En users, tanto reg_date como churn_date están en formato object y deben ser convertidas a datetime. La columna churn_date contiene valores nulos correspondientes a clientes que aún mantienen el servicio activo. Estos valores no deben eliminarse, sino conservarse como indicador de clientes vigentes.\n",
    "\n",
    "Acciones a ejecutar:\n",
    "\n",
    "Se convertirán las columnas de fecha (call_date, message_date, session_date, reg_date, churn_date) al formato datetime en todos los DataFrames correspondientes.\n",
    "\n",
    "Se redondeará la duración de las llamadas hacia arriba para reflejar la política de facturación por minutos enteros.\n",
    "\n",
    "Se conservarán los valores nulos en churn_date como señal de clientes activos, sin imputación adicional."
   ]
  },
  {
   "cell_type": "markdown",
   "metadata": {
    "id": "R3C05i1l0q03"
   },
   "source": [
    "## Corregir datos"
   ]
  },
  {
   "cell_type": "code",
   "execution_count": 5,
   "metadata": {
    "id": "Y7SVmjGn0q03"
   },
   "outputs": [],
   "source": [
    "# Convertir columnas de fecha a tipo datetime\n",
    "calls['call_date'] = pd.to_datetime(calls['call_date'])\n",
    "messages['message_date'] = pd.to_datetime(messages['message_date'])\n",
    "internet['session_date'] = pd.to_datetime(internet['session_date'])\n",
    "users['reg_date'] = pd.to_datetime(users['reg_date'])\n",
    "users['churn_date'] = pd.to_datetime(users['churn_date'])\n",
    "\n",
    "# Redondear duración de llamadas hacia arriba\n",
    "calls['duration'] = np.ceil(calls['duration']).astype(int)"
   ]
  },
  {
   "cell_type": "markdown",
   "metadata": {
    "id": "LJir7bml0q03"
   },
   "source": [
    "## Enriquecer los datos"
   ]
  },
  {
   "cell_type": "code",
   "execution_count": 6,
   "metadata": {
    "id": "gfcIEuXV0q04"
   },
   "outputs": [],
   "source": [
    "# Extraer el mes y año de cada fecha para facilitar el análisis mensual\n",
    "calls['month'] = calls['call_date'].dt.month\n",
    "messages['month'] = messages['message_date'].dt.month\n",
    "internet['month'] = internet['session_date'].dt.month\n",
    "users['reg_month'] = users['reg_date'].dt.month\n",
    "\n",
    "# Convertir los megabytes consumidos en gigabytes y redondear hacia arriba (según las reglas de Megaline)\n",
    "internet['gb_used'] = np.ceil(internet['mb_used'] / 1024).astype(int)"
   ]
  },
  {
   "cell_type": "markdown",
   "metadata": {
    "id": "1n2X6WXf0q04"
   },
   "source": [
    "## Usuarios/as"
   ]
  },
  {
   "cell_type": "code",
   "execution_count": 7,
   "metadata": {
    "id": "2NgjWFqx0q05"
   },
   "outputs": [
    {
     "name": "stdout",
     "output_type": "stream",
     "text": [
      "\n",
      "Información general del DataFrame de usuarios:\n",
      "<class 'pandas.core.frame.DataFrame'>\n",
      "RangeIndex: 500 entries, 0 to 499\n",
      "Data columns (total 9 columns):\n",
      " #   Column      Non-Null Count  Dtype         \n",
      "---  ------      --------------  -----         \n",
      " 0   user_id     500 non-null    int64         \n",
      " 1   first_name  500 non-null    object        \n",
      " 2   last_name   500 non-null    object        \n",
      " 3   age         500 non-null    int64         \n",
      " 4   city        500 non-null    object        \n",
      " 5   reg_date    500 non-null    datetime64[ns]\n",
      " 6   plan        500 non-null    object        \n",
      " 7   churn_date  34 non-null     datetime64[ns]\n",
      " 8   reg_month   500 non-null    int64         \n",
      "dtypes: datetime64[ns](2), int64(3), object(4)\n",
      "memory usage: 35.3+ KB\n",
      "None\n"
     ]
    }
   ],
   "source": [
    "# Imprime la información general/resumida sobre el DataFrame de usuarios\n",
    "print(\"\\nInformación general del DataFrame de usuarios:\")\n",
    "print(users.info())\n"
   ]
  },
  {
   "cell_type": "code",
   "execution_count": 8,
   "metadata": {
    "id": "1IN1L9uh0q05"
   },
   "outputs": [
    {
     "name": "stdout",
     "output_type": "stream",
     "text": [
      "\n",
      "Muestra de datos del DataFrame de usuarios:\n",
      "   user_id first_name  last_name  age                                   city  \\\n",
      "0     1000   Anamaria      Bauer   45  Atlanta-Sandy Springs-Roswell, GA MSA   \n",
      "1     1001     Mickey  Wilkerson   28        Seattle-Tacoma-Bellevue, WA MSA   \n",
      "2     1002     Carlee    Hoffman   36   Las Vegas-Henderson-Paradise, NV MSA   \n",
      "3     1003   Reynaldo    Jenkins   52                          Tulsa, OK MSA   \n",
      "4     1004    Leonila   Thompson   40        Seattle-Tacoma-Bellevue, WA MSA   \n",
      "\n",
      "    reg_date      plan churn_date  reg_month  \n",
      "0 2018-12-24  ultimate        NaT         12  \n",
      "1 2018-08-13      surf        NaT          8  \n",
      "2 2018-10-21      surf        NaT         10  \n",
      "3 2018-01-28      surf        NaT          1  \n",
      "4 2018-05-23      surf        NaT          5  \n"
     ]
    }
   ],
   "source": [
    "# Imprime una muestra de datos para usuarios\n",
    "print(\"\\nMuestra de datos del DataFrame de usuarios:\")\n",
    "print(users.head())\n"
   ]
  },
  {
   "cell_type": "markdown",
   "metadata": {
    "id": "dCZoUq4f0q06"
   },
   "source": [
    "Tipos de Datos Correctos:\n",
    "user_id, age, y reg_month son de tipo int64, lo cual es correcto.\n",
    "reg_date y churn_date están correctamente convertidos a datetime64, lo que facilita el análisis de fechas.\n",
    "first_name, last_name, city y plan son object, lo cual es adecuado.\n",
    "\n",
    "Valores Nulos:\n",
    "La columna churn_date tiene 34 valores no nulos de 500, lo que significa que la mayoría de los clientes aún siguen activos.\n",
    "NaT en churn_date es esperable y no debe corregirse.\n",
    "Columna reg_month Se ha agregado correctamente y representa el mes de registro del usuario.\n",
    "\n",
    "Posibles Mejoras\n",
    "Mantener churn_date con valores nulos sin modificación.\n",
    "No es necesario eliminar ni rellenar estos valores, ya que indican clientes activos.\n",
    "En el contexto de churn_date, significa que esos clientes todavía están activos y no han cancelado su servicio. Solo 34 de los 500 usuarios tienen una fecha de cancelación, lo que indica que 466 clientes aún usan la tarifa.\n",
    "\n",
    "Conclusión\n",
    "\n",
    "No hay problemas críticos en los datos de usuarios.\n",
    "No se necesitan cambios adicionales.\n",
    "Los datos están listos para el análisis.\n"
   ]
  },
  {
   "cell_type": "markdown",
   "metadata": {
    "id": "BX5FQh_I0q06"
   },
   "source": [
    "### Corregir los datos"
   ]
  },
  {
   "cell_type": "markdown",
   "metadata": {},
   "source": [
    "No hay problemas críticos en los datos de usuarios"
   ]
  },
  {
   "cell_type": "markdown",
   "metadata": {
    "id": "ycwuARJp0q07"
   },
   "source": [
    "### Enriquecer los datos"
   ]
  },
  {
   "cell_type": "markdown",
   "metadata": {
    "id": "96NIh4CJ0q08"
   },
   "source": [
    "No se necesitan cambios adicionales"
   ]
  },
  {
   "cell_type": "markdown",
   "metadata": {
    "id": "o7MeKCid0q08"
   },
   "source": [
    "## Llamadas"
   ]
  },
  {
   "cell_type": "code",
   "execution_count": 11,
   "metadata": {
    "id": "6dDlnoDm0q08"
   },
   "outputs": [
    {
     "name": "stdout",
     "output_type": "stream",
     "text": [
      "\n",
      "Información general del DataFrame de llamadas:\n",
      "<class 'pandas.core.frame.DataFrame'>\n",
      "RangeIndex: 137735 entries, 0 to 137734\n",
      "Data columns (total 5 columns):\n",
      " #   Column     Non-Null Count   Dtype         \n",
      "---  ------     --------------   -----         \n",
      " 0   id         137735 non-null  object        \n",
      " 1   user_id    137735 non-null  int64         \n",
      " 2   call_date  137735 non-null  datetime64[ns]\n",
      " 3   duration   137735 non-null  int64         \n",
      " 4   month      137735 non-null  int64         \n",
      "dtypes: datetime64[ns](1), int64(3), object(1)\n",
      "memory usage: 5.3+ MB\n",
      "None\n"
     ]
    }
   ],
   "source": [
    "# Imprime la información general/resumida sobre el DataFrame de las llamadas\n",
    "print(\"\\nInformación general del DataFrame de llamadas:\")\n",
    "print(calls.info())\n"
   ]
  },
  {
   "cell_type": "code",
   "execution_count": 12,
   "metadata": {
    "id": "kuh1vlNB0q09"
   },
   "outputs": [
    {
     "name": "stdout",
     "output_type": "stream",
     "text": [
      "\n",
      "Muestra de datos del DataFrame de llamadas:\n",
      "         id  user_id  call_date  duration  month\n",
      "0   1000_93     1000 2018-12-27         9     12\n",
      "1  1000_145     1000 2018-12-27        14     12\n",
      "2  1000_247     1000 2018-12-27        15     12\n",
      "3  1000_309     1000 2018-12-28         6     12\n",
      "4  1000_380     1000 2018-12-30         5     12\n"
     ]
    }
   ],
   "source": [
    "# Imprime una muestra de datos para las llamadas\n",
    "print(\"\\nMuestra de datos del DataFrame de llamadas:\")\n",
    "print(calls.head())\n"
   ]
  },
  {
   "cell_type": "markdown",
   "metadata": {
    "id": "DOAxYJSx0q09"
   },
   "source": [
    "Tipos de Datos Correctos:\n",
    "\n",
    "id es de tipo object, lo cual es adecuado ya que es un identificador único de cada llamada.\n",
    "user_id es de tipo int64, correcto para identificar a cada usuario.\n",
    "call_date está en formato datetime64, lo cual es ideal para análisis temporales.\n",
    "duration ha sido redondeado correctamente a un número entero (int64), según la política de Megaline de cobrar por minutos completos.\n",
    "month es un número entero (int64), útil para análisis mensuales.\n",
    "\n",
    "Valores Nulos: No hay valores nulos en ninguna columna, lo que indica que la información de llamadas está completa.\n",
    "\n",
    "Corrección Aplicada:\n",
    "\n",
    "Se aplicó correctamente el redondeo de duración de llamadas hacia arriba.\n",
    "Se extrajo el mes de call_date y se almacenó en la columna month, lo cual facilitará el análisis mensual.\n",
    "\n",
    "Conclusiones: \n",
    "No se detectan problemas en los datos.\n",
    "No se necesitan cambios adicionales.\n",
    "Datos listos para el análisis. "
   ]
  },
  {
   "cell_type": "markdown",
   "metadata": {
    "id": "S7hzxmbX0q0-"
   },
   "source": [
    "### Corregir los datos"
   ]
  },
  {
   "cell_type": "markdown",
   "metadata": {
    "id": "YxWyAjD20q0-"
   },
   "source": [
    "Se aplicó correctamente el redondeo de duración de llamadas hacia arriba."
   ]
  },
  {
   "cell_type": "markdown",
   "metadata": {
    "id": "KrMgTrlG0q0_"
   },
   "source": [
    "### Enriquecer los datos"
   ]
  },
  {
   "cell_type": "markdown",
   "metadata": {
    "id": "a9MbmEvE0q0_"
   },
   "source": [
    "Se extrajo el mes de call_date y se almacenó en la columna month, lo cual facilitará el análisis mensual."
   ]
  },
  {
   "cell_type": "markdown",
   "metadata": {
    "id": "mOUZSi180q0_"
   },
   "source": [
    "## Mensajes"
   ]
  },
  {
   "cell_type": "code",
   "execution_count": 15,
   "metadata": {
    "id": "R-bYJpdV0q1A"
   },
   "outputs": [
    {
     "name": "stdout",
     "output_type": "stream",
     "text": [
      "\n",
      "Información general del DataFrame de mensajes:\n",
      "<class 'pandas.core.frame.DataFrame'>\n",
      "RangeIndex: 76051 entries, 0 to 76050\n",
      "Data columns (total 4 columns):\n",
      " #   Column        Non-Null Count  Dtype         \n",
      "---  ------        --------------  -----         \n",
      " 0   id            76051 non-null  object        \n",
      " 1   user_id       76051 non-null  int64         \n",
      " 2   message_date  76051 non-null  datetime64[ns]\n",
      " 3   month         76051 non-null  int64         \n",
      "dtypes: datetime64[ns](1), int64(2), object(1)\n",
      "memory usage: 2.3+ MB\n",
      "None\n"
     ]
    }
   ],
   "source": [
    "# Imprime la información general/resumida sobre el DataFrame de los mensajes\n",
    "print(\"\\nInformación general del DataFrame de mensajes:\")\n",
    "print(messages.info())\n"
   ]
  },
  {
   "cell_type": "code",
   "execution_count": 16,
   "metadata": {
    "id": "mCEl2iGE0q1A"
   },
   "outputs": [
    {
     "name": "stdout",
     "output_type": "stream",
     "text": [
      "\n",
      "Muestra de datos del DataFrame de mensajes:\n",
      "         id  user_id message_date  month\n",
      "0  1000_125     1000   2018-12-27     12\n",
      "1  1000_160     1000   2018-12-31     12\n",
      "2  1000_223     1000   2018-12-31     12\n",
      "3  1000_251     1000   2018-12-27     12\n",
      "4  1000_255     1000   2018-12-26     12\n"
     ]
    }
   ],
   "source": [
    "# Imprime una muestra de datos para los mensajes\n",
    "print(\"\\nMuestra de datos del DataFrame de mensajes:\")\n",
    "print(messages.head())\n"
   ]
  },
  {
   "cell_type": "markdown",
   "metadata": {
    "id": "04xDj7KH0q1A"
   },
   "source": [
    "Los tipos de datos están correctos.\n",
    "\n",
    "Valores Nulos: No hay valores nulos en ninguna columna, lo que indica que la información de mensajes está completa.\n",
    "\n",
    "Corrección Aplicada:\n",
    "Se convirtió correctamente la columna message_date a datetime64[ns].\n",
    "Se extrajo el mes de message_date en la columna month, lo cual facilitará el análisis de uso de mensajes por mes.\n",
    "\n",
    "Posibles Mejoras: No se detectan problemas en los datos. No se necesitan cambios adicionales. Datos listos para el análisis."
   ]
  },
  {
   "cell_type": "markdown",
   "metadata": {
    "id": "Sprfak900q1B"
   },
   "source": [
    "### Corregir los datos"
   ]
  },
  {
   "cell_type": "markdown",
   "metadata": {
    "id": "eGw7d9j10q1B"
   },
   "source": [
    "No se detectan problemas en los datos. "
   ]
  },
  {
   "cell_type": "markdown",
   "metadata": {
    "id": "HvLid7iD0q1B"
   },
   "source": [
    "### Enriquecer los datos"
   ]
  },
  {
   "cell_type": "markdown",
   "metadata": {
    "id": "8nhPFKIe0q1C"
   },
   "source": [
    "No se necesitan cambios adicionales."
   ]
  },
  {
   "cell_type": "markdown",
   "metadata": {
    "id": "bStkaxn40q1C"
   },
   "source": [
    "## Internet"
   ]
  },
  {
   "cell_type": "code",
   "execution_count": 19,
   "metadata": {
    "id": "e-Uz5qyn0q1C"
   },
   "outputs": [
    {
     "name": "stdout",
     "output_type": "stream",
     "text": [
      "\n",
      "Información general del DataFrame de internet:\n",
      "<class 'pandas.core.frame.DataFrame'>\n",
      "RangeIndex: 104825 entries, 0 to 104824\n",
      "Data columns (total 6 columns):\n",
      " #   Column        Non-Null Count   Dtype         \n",
      "---  ------        --------------   -----         \n",
      " 0   id            104825 non-null  object        \n",
      " 1   user_id       104825 non-null  int64         \n",
      " 2   session_date  104825 non-null  datetime64[ns]\n",
      " 3   mb_used       104825 non-null  float64       \n",
      " 4   month         104825 non-null  int64         \n",
      " 5   gb_used       104825 non-null  int64         \n",
      "dtypes: datetime64[ns](1), float64(1), int64(3), object(1)\n",
      "memory usage: 4.8+ MB\n",
      "None\n"
     ]
    }
   ],
   "source": [
    "# Imprime la información general/resumida sobre el DataFrame de internet\n",
    "# Imprimir información general del DataFrame de internet\n",
    "print(\"\\nInformación general del DataFrame de internet:\")\n",
    "print(internet.info())\n"
   ]
  },
  {
   "cell_type": "code",
   "execution_count": 20,
   "metadata": {
    "id": "9r3x_XLw0q1C"
   },
   "outputs": [
    {
     "name": "stdout",
     "output_type": "stream",
     "text": [
      "\n",
      "Muestra de datos del DataFrame de internet:\n",
      "         id  user_id session_date  mb_used  month  gb_used\n",
      "0   1000_13     1000   2018-12-29    89.86     12        1\n",
      "1  1000_204     1000   2018-12-31     0.00     12        0\n",
      "2  1000_379     1000   2018-12-28   660.40     12        1\n",
      "3  1000_413     1000   2018-12-26   270.99     12        1\n",
      "4  1000_442     1000   2018-12-27   880.22     12        1\n"
     ]
    }
   ],
   "source": [
    "# Imprime una muestra de datos para el tráfico de internet\n",
    "print(\"\\nMuestra de datos del DataFrame de internet:\")\n",
    "print(internet.head())\n"
   ]
  },
  {
   "cell_type": "markdown",
   "metadata": {
    "id": "EzOG5ik30q1D"
   },
   "source": [
    "Los tipos de datos están correctos: Por ejemplo, month es un número entero (int64), lo que facilitará el análisis mensual y gb_used es un número entero (int64), lo que es útil ya que Megaline cobra por gigabytes enteros.\n",
    "\n",
    "Valores Nulos: No hay valores nulos en ninguna columna, lo que indica que la información de uso de internet está completa.\n",
    "\n",
    "Corrección Aplicada: \n",
    "\n",
    "Se convirtió correctamente la columna session_date a datetime64[ns].\n",
    "Se extrajo el mes de session_date en la columna month, lo cual facilitará el análisis del uso de datos por mes.\n",
    "Se agregó la columna gb_used, calculada como el redondeo hacia arriba de mb_used / 1024, lo cual es necesario para el análisis de facturación.\n",
    "\n",
    "Posibles mejoras: \n",
    "No se detectan problemas en los datos.\n",
    "No se necesitan cambios adicionales.\n",
    "Los datos están listos para el análisis."
   ]
  },
  {
   "cell_type": "markdown",
   "metadata": {
    "id": "yA0tkPFg0q1D"
   },
   "source": [
    "### Corregir los datos"
   ]
  },
  {
   "cell_type": "markdown",
   "metadata": {
    "id": "zlZMuIEK0q1D"
   },
   "source": [
    "No se detectan problemas en los datos.  Se corrigieron más arriba."
   ]
  },
  {
   "cell_type": "markdown",
   "metadata": {
    "id": "3UA2cqIW0q1E"
   },
   "source": [
    "## Estudiar las condiciones de las tarifas"
   ]
  },
  {
   "cell_type": "markdown",
   "metadata": {
    "id": "T86Sqltq0q1F"
   },
   "source": [
    "Es sumamente importante entender cómo funcionan las tarifas, cómo se les cobra a los usuarios en función de su plan de suscripción."
   ]
  },
  {
   "cell_type": "code",
   "execution_count": 23,
   "metadata": {
    "id": "i409op8p0q1F"
   },
   "outputs": [
    {
     "name": "stdout",
     "output_type": "stream",
     "text": [
      "\n",
      "Condiciones de las tarifas:\n",
      "   messages_included  mb_per_month_included  minutes_included  \\\n",
      "0                 50                  15360               500   \n",
      "1               1000                  30720              3000   \n",
      "\n",
      "   usd_monthly_pay  usd_per_gb  usd_per_message  usd_per_minute plan_name  \n",
      "0               20          10             0.03            0.03      surf  \n",
      "1               70           7             0.01            0.01  ultimate  \n"
     ]
    }
   ],
   "source": [
    "# Imprime las condiciones de la tarifa y asegúrate de que te quedan claras\n",
    "print(\"\\nCondiciones de las tarifas:\")\n",
    "print(plans)\n"
   ]
  },
  {
   "cell_type": "markdown",
   "metadata": {
    "id": "hMR1tP5d0q1F"
   },
   "source": [
    "## Agregación de datos por usuario y período\n",
    "\n",
    "Una vez finalizado el proceso de limpieza y transformación de los datos, se procederá a agrupar la información por usuario y por período (mes). Esta consolidación permitirá que cada cliente cuente con un único registro por mes, lo cual facilitará significativamente el análisis comparativo posterior entre tarifas, al reducir la granularidad y optimizar la estructura de los datos para cálculos agregados."
   ]
  },
  {
   "cell_type": "code",
   "execution_count": 24,
   "metadata": {
    "id": "A332cedB0q1G"
   },
   "outputs": [],
   "source": [
    "# Calcula el número de llamadas hechas por cada usuario al mes. Guarda el resultado.\n",
    "calls_per_user = calls.groupby(['user_id', 'month'])['id'].count().reset_index()\n",
    "calls_per_user.rename(columns={'id': 'total_calls'}, inplace=True)\n"
   ]
  },
  {
   "cell_type": "code",
   "execution_count": 25,
   "metadata": {
    "id": "aw2cmuql0q1G"
   },
   "outputs": [],
   "source": [
    "# Calcula la cantidad de minutos usados por cada usuario al mes. Guarda el resultado.\n",
    "minutes_per_user = calls.groupby(['user_id', 'month'])['duration'].sum().reset_index()\n",
    "minutes_per_user.rename(columns={'duration': 'total_minutes'}, inplace=True)\n"
   ]
  },
  {
   "cell_type": "code",
   "execution_count": 26,
   "metadata": {
    "id": "CcQvNHn60q1G"
   },
   "outputs": [],
   "source": [
    "# Calcula el número de mensajes enviados por cada usuario al mes. Guarda el resultado.\n",
    "messages_per_user = messages.groupby(['user_id', 'month'])['id'].count().reset_index()\n",
    "messages_per_user.rename(columns={'id': 'total_messages'}, inplace=True)\n"
   ]
  },
  {
   "cell_type": "code",
   "execution_count": 27,
   "metadata": {
    "id": "H1AqN2eG0q1H"
   },
   "outputs": [],
   "source": [
    "# Calcula el volumen del tráfico de Internet usado por cada usuario al mes. Guarda el resultado.\n",
    "internet_per_user = internet.groupby(['user_id', 'month'])['gb_used'].sum().reset_index()\n",
    "internet_per_user.rename(columns={'gb_used': 'total_gb'}, inplace=True)\n"
   ]
  },
  {
   "cell_type": "markdown",
   "metadata": {
    "id": "VDfYXnj80q1H"
   },
   "source": [
    "Se agregaron los datos por usuario y por periodo."
   ]
  },
  {
   "cell_type": "code",
   "execution_count": 28,
   "metadata": {
    "id": "FW99ykyf0q1H"
   },
   "outputs": [],
   "source": [
    "# Fusiona los datos de llamadas, minutos, mensajes e Internet con base en user_id y month\n",
    "users_data = users[['user_id', 'city', 'plan']]  # Mantener solo las columnas necesarias de usuarios\n",
    "df = calls_per_user.merge(minutes_per_user, on=['user_id', 'month'], how='left')\n",
    "df = df.merge(messages_per_user, on=['user_id', 'month'], how='left')\n",
    "df = df.merge(internet_per_user, on=['user_id', 'month'], how='left')\n",
    "df = df.merge(users_data, on='user_id', how='left')\n",
    "\n",
    "# Rellenar valores NaN con 0 (usuarios que no usaron mensajes o datos en un mes)\n",
    "df.fillna(0, inplace=True)\n"
   ]
  },
  {
   "cell_type": "code",
   "execution_count": 29,
   "metadata": {
    "id": "0dNOXHag0q1H"
   },
   "outputs": [],
   "source": [
    "# Añade la información de la tarifa\n",
    "df = df.merge(plans, left_on='plan', right_on='plan_name', how='left')\n"
   ]
  },
  {
   "cell_type": "markdown",
   "metadata": {
    "id": "1IwGo4wg0q1I"
   },
   "source": [
    "Se fusiona los datos de llamadas, minutos, mensajes e Internet usando user_id y month.\n",
    "Se añade la información del plan con un merge en plan.\n",
    "\n",
    "Para el siguiente cálculo:\n",
    "Se calcula el uso adicional de minutos, mensajes y gigabytes y aplica los costos extra.\n",
    "Se calcula el ingreso mensual sumando la tarifa fija y los costos adicionales.\n",
    "Se mantiene solo las columnas necesarias para el análisis."
   ]
  },
  {
   "cell_type": "code",
   "execution_count": 30,
   "metadata": {
    "id": "5FGCf_c60q1I"
   },
   "outputs": [
    {
     "name": "stdout",
     "output_type": "stream",
     "text": [
      "\n",
      "Datos fusionados con ingresos calculados:\n",
      "   user_id  month  total_calls  total_minutes  total_messages  total_gb  \\\n",
      "0     1000     12           16            124            11.0       4.0   \n",
      "1     1001      8           27            182            30.0      21.0   \n",
      "2     1001      9           49            315            44.0      41.0   \n",
      "3     1001     10           65            393            53.0      50.0   \n",
      "4     1001     11           64            426            36.0      49.0   \n",
      "\n",
      "       plan  income  \n",
      "0  ultimate   70.00  \n",
      "1      surf   80.00  \n",
      "2      surf  280.00  \n",
      "3      surf  370.09  \n",
      "4      surf  360.00  \n"
     ]
    }
   ],
   "source": [
    "# Calcula el ingreso mensual para cada usuario\n",
    "df['extra_minutes'] = (df['total_minutes'] - df['minutes_included']).clip(lower=0)\n",
    "df['extra_messages'] = (df['total_messages'] - df['messages_included']).clip(lower=0)\n",
    "df['extra_gb'] = (df['total_gb'] - (df['mb_per_month_included'] / 1024)).clip(lower=0)\n",
    "\n",
    "df['income'] = (\n",
    "    df['usd_monthly_pay'] +\n",
    "    df['extra_minutes'] * df['usd_per_minute'] +\n",
    "    df['extra_messages'] * df['usd_per_message'] +\n",
    "    df['extra_gb'] * df['usd_per_gb']\n",
    ")\n",
    "\n",
    "# Seleccionar solo las columnas relevantes\n",
    "df = df[['user_id', 'month', 'total_calls', 'total_minutes', 'total_messages', 'total_gb', 'plan', 'income']]\n",
    "\n",
    "# Mostrar los primeros registros\n",
    "print(\"\\nDatos fusionados con ingresos calculados:\")\n",
    "print(df.head())\n"
   ]
  },
  {
   "cell_type": "markdown",
   "metadata": {
    "id": "-jtyHzJb0q1I"
   },
   "source": [
    "## Estudia el comportamiento de usuario"
   ]
  },
  {
   "cell_type": "markdown",
   "metadata": {
    "id": "AxU3Y0N70q1J"
   },
   "source": [
    "Se calcularán estadísticas descriptivas sobre los datos previamente agregados y fusionados, con el objetivo de obtener una visión general del comportamiento de los usuarios. Estas métricas permitirán identificar patrones de uso y diferencias relevantes entre las tarifas Surf y Ultimate.\n",
    "\n",
    "Asimismo, se visualizarán los resultados mediante gráficos representativos que faciliten la comprensión de los datos y resalten las tendencias clave. Dado que el propósito principal del análisis es determinar cuál de las tarifas genera mayores ingresos, tanto las estadísticas como las visualizaciones se desglosarán por tipo de tarifa.\n",
    "\n",
    "En el caso de las llamadas, se proporcionan sugerencias específicas en los comentarios del código, pero para los mensajes y el uso de Internet se aplicará el mismo enfoque estadístico, considerando la cantidad de unidades consumidas y su impacto en la facturación total."
   ]
  },
  {
   "cell_type": "markdown",
   "metadata": {
    "id": "vtW4CJEe0q1J"
   },
   "source": [
    "### Llamadas"
   ]
  },
  {
   "cell_type": "code",
   "execution_count": 31,
   "metadata": {
    "id": "Jf5v5--k0q1J"
   },
   "outputs": [
    {
     "data": {
      "image/png": "[encoded data removed]",
      "text/plain": [
       "<Figure size 1200x600 with 1 Axes>"
      ]
     },
     "metadata": {},
     "output_type": "display_data"
    }
   ],
   "source": [
    "# Compara la duración promedio de llamadas por cada plan y por cada mes. Traza un gráfico de barras para visualizarla.\n",
    "import matplotlib.pyplot as plt\n",
    "\n",
    "calls_avg_per_plan = df.groupby(['month', 'plan'])['total_minutes'].mean().unstack()\n",
    "# Gráfico de barras para visualizar la duración promedio de llamadas por plan y mes\n",
    "calls_avg_per_plan.plot(kind='bar', figsize=(12, 6))\n",
    "plt.title(\"Duración Promedio de Llamadas por Mes y Plan\")\n",
    "plt.xlabel(\"Mes\")\n",
    "plt.ylabel(\"Duración Promedio de Llamadas (minutos)\")\n",
    "plt.legend(title=\"Plan\")\n",
    "plt.xticks(rotation=0 , ticks=range(12),  labels=['Enero', 'Febrero', 'Marzo', 'Abril', 'Mayo', 'Junio', 'Julio' , 'Agosto', 'Setiembre', 'Octubre', 'Noviembre', 'Diciembre'])\n",
    "plt.grid(axis='y', linestyle='--', alpha=0.7)\n",
    "plt.show()\n"
   ]
  },
  {
   "cell_type": "code",
   "execution_count": 32,
   "metadata": {
    "id": "QoLqW1S_0q1J",
    "scrolled": true
   },
   "outputs": [
    {
     "data": {
      "image/png": "[encoded data removed]",
      "text/plain": [
       "<Figure size 1200x600 with 1 Axes>"
      ]
     },
     "metadata": {},
     "output_type": "display_data"
    }
   ],
   "source": [
    "# Compara el número de minutos mensuales que necesitan los usuarios de cada plan. Traza un histograma.\n",
    "plt.figure(figsize=(12, 6))\n",
    "for plan in df['plan'].unique():\n",
    "    subset = df[df['plan'] == plan]['total_minutes']\n",
    "    plt.hist(subset, bins=20, alpha=0.5, label=plan)\n",
    "\n",
    "plt.title(\"Distribución de Minutos Mensuales por Plan\")\n",
    "plt.xlabel(\"Minutos Totales\")\n",
    "plt.ylabel(\"Frecuencia\")\n",
    "plt.legend(title=\"Plan\")\n",
    "plt.grid(axis='y', linestyle='--', alpha=0.7)\n",
    "plt.show()\n"
   ]
  },
  {
   "cell_type": "markdown",
   "metadata": {
    "id": "bLS9T8OH0q1K"
   },
   "source": [
    "Se calculará la media y la variable de la duración de las llamadas para averiguar si los usuarios de los distintos planes se comportan de forma diferente al realizar sus llamadas."
   ]
  },
  {
   "cell_type": "code",
   "execution_count": 33,
   "metadata": {
    "id": "oSndbAnt0q1K"
   },
   "outputs": [],
   "source": [
    "# Calcula la media y la varianza de la duración mensual de llamadas.\n",
    "calls_stats = df.groupby('plan')['total_minutes'].agg(['mean', 'var']).reset_index()\n"
   ]
  },
  {
   "cell_type": "code",
   "execution_count": 34,
   "metadata": {
    "id": "nZzoRUKc0q1K"
   },
   "outputs": [
    {
     "data": {
      "text/plain": [
       "<Figure size 1200x600 with 0 Axes>"
      ]
     },
     "metadata": {},
     "output_type": "display_data"
    },
    {
     "data": {
      "image/png": "[encoded data removed]",
      "text/plain": [
       "<Figure size 640x480 with 1 Axes>"
      ]
     },
     "metadata": {},
     "output_type": "display_data"
    }
   ],
   "source": [
    "# Traza un diagrama de caja para visualizar la distribución de la duración mensual de llamadas\n",
    "plt.figure(figsize=(12, 6))\n",
    "df.boxplot(column='total_minutes', by='plan', grid=False)\n",
    "plt.title(\"Distribución de la Duración Mensual de Llamadas por Plan\")\n",
    "plt.suptitle(\"\")\n",
    "plt.xlabel(\"Plan\")\n",
    "plt.ylabel(\"Minutos Totales\")\n",
    "plt.grid(axis='y', linestyle='--', alpha=0.7)\n",
    "plt.show()\n"
   ]
  },
  {
   "cell_type": "markdown",
   "metadata": {
    "id": "r627zBO50q1K"
   },
   "source": [
    "#Duración Promedio de Llamadas por Mes y Plan (Gráfico de Barras):\n",
    ".En general, la duración promedio de llamadas en ambos planes aumenta a lo largo del año.\n",
    ".No hay una gran diferencia en la duración promedio de llamadas entre los planes Surf y Ultimate.\n",
    ".En algunos meses, Surf tiene un mayor uso de minutos, y en otros meses, Ultimate supera a Surf. Esto sugiere que no hay una tendencia clara de mayor consumo en un solo plan.\n",
    "\n",
    "Distribución de Minutos Mensuales por Plan (Histograma):\n",
    "\n",
    ".La mayoría de los usuarios de Surf y Ultimate usan entre 200 y 600 minutos mensuales.\n",
    ".Existen algunos usuarios con consumos elevados de minutos, pero son casos aislados.\n",
    ".La distribución de Surf parece más extendida, lo que indica una mayor variabilidad en el consumo de minutos.\n",
    "\n",
    "Diagrama de Caja (Boxplot):\n",
    "\n",
    ".Ambos planes tienen una mediana similar en cuanto a minutos usados por mes.\n",
    ".Existen valores atípicos en ambos planes, indicando que hay usuarios que realizan un uso excesivo de los minutos disponibles.\n",
    ".La dispersión de los datos es bastante amplia en ambos planes, lo que significa que hay usuarios con consumos muy distintos dentro de cada grupo.\n",
    "\n",
    "¿El comportamiento varía en función del plan?\n",
    ".No hay una diferencia significativa en el uso de minutos entre los planes.\n",
    ".El uso de minutos es variable dentro de cada plan, con valores atípicos en ambos.\n",
    ".La cantidad de minutos utilizados no parece ser un factor clave para elegir un plan, ya que ambos grupos tienen comportamientos similares.\n",
    ".Dado que no hay una gran diferencia en el consumo de minutos, el factor decisivo para elegir un plan puede no ser los minutos, sino los mensajes o datos móviles. Esto lo veremos más adelante."
   ]
  },
  {
   "cell_type": "markdown",
   "metadata": {
    "id": "8idKy8Wh0q1L"
   },
   "source": [
    "### Mensajes"
   ]
  },
  {
   "cell_type": "code",
   "execution_count": 35,
   "metadata": {
    "id": "NXLxiTit0q1L"
   },
   "outputs": [
    {
     "data": {
      "image/png": "[encoded data removed]",
      "text/plain": [
       "<Figure size 1200x600 with 1 Axes>"
      ]
     },
     "metadata": {},
     "output_type": "display_data"
    }
   ],
   "source": [
    "# Comprara el número de mensajes que tienden a enviar cada mes los usuarios de cada plan\n",
    "messages_total_per_plan = df.groupby(['month', 'plan'])['total_messages'].sum().reset_index()\n",
    "\n",
    "# Gráfico de barras para visualizar la cantidad total de mensajes por plan y mes\n",
    "plt.figure(figsize=(12, 6))\n",
    "for plan in df['plan'].unique():\n",
    "    subset = messages_total_per_plan[messages_total_per_plan['plan'] == plan]\n",
    "    plt.bar(subset['month'], subset['total_messages'], alpha=0.7, label=plan)\n",
    "\n",
    "plt.title(\"Cantidad Total de Mensajes por Mes y Plan\")\n",
    "plt.xlabel(\"Mes\")\n",
    "plt.ylabel(\"Total de Mensajes Enviados\")\n",
    "plt.legend(title=\"Plan\")\n",
    "plt.xticks(rotation=0, ticks=range(1,13),  labels=['Enero', 'Febrero', 'Marzo', 'Abril', 'Mayo', 'Junio', 'Julio' , 'Agosto', 'Setiembre', 'Octubre', 'Noviembre', 'Diciembre'])  # Asegurar que todos los meses aparecen en el eje x\n",
    "plt.grid(axis='y', linestyle='--', alpha=0.7)\n",
    "plt.show()"
   ]
  },
  {
   "cell_type": "code",
   "execution_count": 36,
   "metadata": {
    "id": "GRI_R7xF0q1L"
   },
   "outputs": [
    {
     "data": {
      "image/png": "[encoded data removed]",
      "text/plain": [
       "<Figure size 1200x600 with 1 Axes>"
      ]
     },
     "metadata": {},
     "output_type": "display_data"
    }
   ],
   "source": [
    "# Compara la cantidad de tráfico de Internet consumido por usuarios por plan\n",
    "internet_total_per_plan = df.groupby(['month', 'plan'])['total_gb'].sum().reset_index()\n",
    "\n",
    "# Gráfico de barras para visualizar el consumo total de datos por plan y mes\n",
    "plt.figure(figsize=(12, 6))\n",
    "for plan in df['plan'].unique():\n",
    "    subset = internet_total_per_plan[internet_total_per_plan['plan'] == plan]\n",
    "    plt.bar(subset['month'], subset['total_gb'], alpha=0.7, label=plan)\n",
    "\n",
    "plt.title(\"Consumo Total de Internet por Mes y Plan (GB)\")\n",
    "plt.xlabel(\"Mes\")\n",
    "plt.ylabel(\"Total de Gigabytes Consumidos\")\n",
    "plt.legend(title=\"Plan\")\n",
    "plt.xticks(rotation=0, ticks=range(1,13),  labels=['Enero', 'Febrero', 'Marzo', 'Abril', 'Mayo', 'Junio', 'Julio' , 'Agosto', 'Setiembre', 'Octubre', 'Noviembre', 'Diciembre'])  # Asegurar que todos los meses aparecen en el eje x\n",
    "plt.grid(axis='y', linestyle='--', alpha=0.7)\n",
    "plt.show()\n"
   ]
  },
  {
   "cell_type": "markdown",
   "metadata": {
    "id": "390SSL480q1M"
   },
   "source": [
    "El número total de mensajes enviados y el consumo total de datos aumenta a lo largo del año, con un pico en diciembre.\n",
    "Los usuarios de Ultimate envían significativamente más mensajes y consumen más datos que los de Surf.\n",
    "El comportamiento varía según el plan: los usuarios de Surf envían menos mensajes, probablemente porque pagan por SMS adicionales. Respecto al internet, los usuarios de Surf podrían estar restringidos por su límite más bajo o por costos adicionales."
   ]
  },
  {
   "cell_type": "markdown",
   "metadata": {
    "id": "42YSypXz0q1M"
   },
   "source": [
    "### Internet"
   ]
  },
  {
   "cell_type": "code",
   "execution_count": 37,
   "metadata": {
    "id": "lSuKPtjh0q1M"
   },
   "outputs": [
    {
     "data": {
      "text/plain": [
       "<Figure size 1200x600 with 0 Axes>"
      ]
     },
     "metadata": {},
     "output_type": "display_data"
    },
    {
     "data": {
      "image/png": "[encoded data removed]",
      "text/plain": [
       "<Figure size 1200x600 with 1 Axes>"
      ]
     },
     "metadata": {},
     "output_type": "display_data"
    }
   ],
   "source": [
    "# Comparar la duración promedio del volumen del tráfico mensual de Internet por cada plan y mes\n",
    "internet_avg_per_plan = df.groupby(['month', 'plan'])['total_gb'].mean().unstack()\n",
    "\n",
    "# Gráfico de barras para visualizar el volumen promedio del tráfico mensual de Internet por plan y mes\n",
    "plt.figure(figsize=(12, 6))\n",
    "internet_avg_per_plan.plot(kind='bar', figsize=(12, 6))\n",
    "plt.title(\"Volumen Promedio del Tráfico Mensual de Internet por Mes y Plan (GB)\")\n",
    "plt.xlabel(\"Mes\")\n",
    "plt.ylabel(\"Promedio de GB Consumidos\")\n",
    "plt.legend(title=\"Plan\")\n",
    "plt.xticks(rotation=0, ticks=range(0,12), labels=['Enero', 'Febrero', 'Marzo', 'Abril', 'Mayo', 'Junio', 'Julio' , 'Agosto', 'Setiembre', 'Octubre', 'Noviembre', 'Diciembre'])\n",
    "plt.grid(axis='y', linestyle='--', alpha=0.7)\n",
    "plt.show()\n",
    "\n"
   ]
  },
  {
   "cell_type": "code",
   "execution_count": 38,
   "metadata": {
    "id": "wnh8jYXi0q1N"
   },
   "outputs": [
    {
     "data": {
      "image/png": "[encoded data removed]",
      "text/plain": [
       "<Figure size 1200x600 with 1 Axes>"
      ]
     },
     "metadata": {},
     "output_type": "display_data"
    }
   ],
   "source": [
    "# Comparar el volumen del tráfico mensual de Internet que necesitan los usuarios de cada plan (Histograma)\n",
    "\n",
    "plt.figure(figsize=(12, 6))\n",
    "for plan in df['plan'].unique():\n",
    "    subset = df[df['plan'] == plan]['total_gb']\n",
    "    plt.hist(subset, bins=20, alpha=0.5, label=plan)\n",
    "\n",
    "plt.title(\"Distribución del Volumen Mensual de Internet por Plan\")\n",
    "plt.xlabel(\"Gigabytes Totales\")\n",
    "plt.ylabel(\"Frecuencia\")\n",
    "plt.legend(title=\"Plan\")\n",
    "plt.grid(axis='y', linestyle='--', alpha=0.7)\n",
    "plt.show()\n"
   ]
  },
  {
   "cell_type": "code",
   "execution_count": 39,
   "metadata": {
    "id": "5VlyJ9ry0q1N",
    "scrolled": true
   },
   "outputs": [
    {
     "data": {
      "text/plain": [
       "<Figure size 1200x600 with 0 Axes>"
      ]
     },
     "metadata": {},
     "output_type": "display_data"
    },
    {
     "data": {
      "image/png": "[encoded data removed]",
      "text/plain": [
       "<Figure size 640x480 with 1 Axes>"
      ]
     },
     "metadata": {},
     "output_type": "display_data"
    }
   ],
   "source": [
    "# Calcular la media y la varianza del volumen del tráfico mensual de Internet\n",
    "internet_stats = df.groupby('plan')['total_gb'].agg(['mean', 'var']).reset_index()\n",
    "\n",
    "# Traza un diagrama de caja para visualizar la distribución del volumen del tráfico mensual de Internet\n",
    "plt.figure(figsize=(12, 6))\n",
    "df.boxplot(column='total_gb', by='plan', grid=False)\n",
    "plt.title(\"Distribución del Tráfico Mensual de Internet por Plan\")\n",
    "plt.suptitle(\"\")\n",
    "plt.xlabel(\"Plan\")\n",
    "plt.ylabel(\"Total de GB Consumidos\")\n",
    "plt.grid(axis='y', linestyle='--', alpha=0.7)\n",
    "plt.show()"
   ]
  },
  {
   "cell_type": "markdown",
   "metadata": {
    "id": "UN9zwuMP0q1N"
   },
   "source": [
    "Conclusiones sobre el tráfico de Internet:\n",
    "\n",
    "El consumo promedio de datos es similar entre ambos planes, aunque Ultimate tiene ligeras variaciones en ciertos meses.\n",
    "\n",
    "La distribución del consumo (histograma) muestra que la mayoría de los usuarios consumen entre 30 y 60 GB al mes.\n",
    "\n",
    "El boxplot indica que ambos planes tienen valores atípicos, con usuarios que superan ampliamente los límites incluidos.\n",
    "\n",
    "No hay una diferencia clara en el comportamiento entre los planes; ambos tienen una alta dispersión en el uso de datos.\n",
    "\n",
    "La media del consumo de datos en ambos planes (según el boxplot) es bastante similar. Esto indica que, en promedio, los usuarios de Surf y Ultimate consumen casi la misma cantidad de GB al mes.\n",
    "\n",
    "La diferencia clave radica en la dispersión: hay usuarios de ambos planes que superan ampliamente los límites incluidos, generando valores atípicos.\n",
    "\n",
    "Ultimate no muestra una ventaja clara en términos de menor uso de datos extra, lo que sugiere que los usuarios no eligen este plan solo por su mayor límite de datos.\n",
    "\n",
    "🔍 Los usuarios de ambos planes usan Internet de manera intensiva, y la oferta de datos debe adaptarse a la demanda creciente. \n",
    "\n",
    "🔍 Conclusión: La media del consumo mensual de datos es similar en ambos planes, lo que refuerza la idea de que el plan no influye significativamente en el comportamiento del usuario.\n"
   ]
  },
  {
   "cell_type": "markdown",
   "metadata": {
    "id": "tCijq3260q1N"
   },
   "source": [
    "## Ingreso"
   ]
  },
  {
   "cell_type": "markdown",
   "metadata": {
    "id": "9nq5IAcy0q1O"
   },
   "source": [
    "Se describirá estadísticamente los ingresos de los planes del mismo modo que se ha estudiado el comportamiento de los usuarios."
   ]
  },
  {
   "cell_type": "code",
   "execution_count": 40,
   "metadata": {
    "id": "tz-dq_V00q1O"
   },
   "outputs": [
    {
     "name": "stdout",
     "output_type": "stream",
     "text": [
      "       plan        mean  median           var         std        sum\n",
      "0      surf  282.364997   290.0  25960.869119  161.123770  436253.92\n",
      "1  ultimate  167.018233   154.0   7551.779161   86.900973  119084.00\n"
     ]
    },
    {
     "data": {
      "image/png": "[encoded data removed]",
      "text/plain": [
       "<Figure size 800x500 with 1 Axes>"
      ]
     },
     "metadata": {},
     "output_type": "display_data"
    }
   ],
   "source": [
    "# Calcular estadísticas descriptivas para los ingresos por plan\n",
    "income_stats = df.groupby('plan')['income'].agg(['mean', 'median', 'var', 'std', 'sum']).reset_index()\n",
    "print(income_stats)\n",
    "\n",
    "# Gráfico de barras para visualizar los ingresos totales por plan\n",
    "plt.figure(figsize=(8, 5))\n",
    "df.groupby('plan')['income'].sum().plot(kind='bar', color=['blue', 'orange'])\n",
    "plt.title(\"Ingresos Totales por Plan\")\n",
    "plt.xlabel(\"Plan\")\n",
    "plt.ylabel(\"Ingreso Total (USD)\")\n",
    "plt.xticks(rotation=0)\n",
    "plt.grid(axis='y', linestyle='--', alpha=0.7)\n",
    "plt.show()"
   ]
  },
  {
   "cell_type": "code",
   "execution_count": 41,
   "metadata": {
    "id": "0Y1v8ZUz0q1P"
   },
   "outputs": [
    {
     "data": {
      "image/png": "[encoded data removed]",
      "text/plain": [
       "<Figure size 1000x600 with 1 Axes>"
      ]
     },
     "metadata": {},
     "output_type": "display_data"
    }
   ],
   "source": [
    "# Histograma de distribución de ingresos por usuario en cada plan\n",
    "plt.figure(figsize=(10, 6))\n",
    "for plan in df['plan'].unique():\n",
    "    subset = df[df['plan'] == plan]['income']\n",
    "    plt.hist(subset, bins=20, alpha=0.5, label=plan)\n",
    "\n",
    "plt.title(\"Distribución de Ingresos por Usuario en Cada Plan\")\n",
    "plt.xlabel(\"Ingreso (USD)\")\n",
    "plt.ylabel(\"Frecuencia\")\n",
    "plt.legend(title=\"Plan\")\n",
    "plt.grid(axis='y', linestyle='--', alpha=0.7)\n",
    "plt.show()"
   ]
  },
  {
   "cell_type": "code",
   "execution_count": 42,
   "metadata": {
    "id": "bYmwxyVh0q1P"
   },
   "outputs": [
    {
     "data": {
      "text/plain": [
       "<Figure size 800x500 with 0 Axes>"
      ]
     },
     "metadata": {},
     "output_type": "display_data"
    },
    {
     "data": {
      "image/png": "[encoded data removed]",
      "text/plain": [
       "<Figure size 640x480 with 1 Axes>"
      ]
     },
     "metadata": {},
     "output_type": "display_data"
    }
   ],
   "source": [
    "    # Diagrama de caja para visualizar la distribución de ingresos por plan\n",
    "plt.figure(figsize=(8, 5))\n",
    "df.boxplot(column='income', by='plan', grid=False)\n",
    "plt.title(\"Distribución de Ingresos por Plan\")\n",
    "plt.suptitle(\"\")\n",
    "plt.xlabel(\"Plan\")\n",
    "plt.ylabel(\"Ingreso (USD)\")\n",
    "plt.grid(axis='y', linestyle='--', alpha=0.7)\n",
    "plt.show()\n"
   ]
  },
  {
   "cell_type": "markdown",
   "metadata": {
    "id": "KAFidcXZ0q1P"
   },
   "source": [
    "Conclusiones sobre los ingresos por plan:\n",
    "\n",
    "📌 El plan Surf genera significativamente más ingresos totales que el plan Ultimate.\n",
    "\n",
    "📌 El histograma muestra que los ingresos de Surf están más dispersos, con usuarios que pagan montos variables debido a cargos adicionales.\n",
    "\n",
    "📌 El boxplot indica que Surf tiene una mayor variabilidad en los ingresos, con valores atípicos que pueden corresponder a clientes con altos consumos fuera del plan.\n",
    "\n",
    "📌 La mediana de ingresos en Surf es más alta que en Ultimate, lo que sugiere que, en promedio, los usuarios de Surf terminan pagando más.\n",
    "\n",
    "🔍 Conclusión: Aunque el plan Ultimate tiene una tarifa fija más alta, el plan Surf genera más ingresos gracias a costos adicionales por minutos, mensajes o datos extra. "
   ]
  },
  {
   "cell_type": "markdown",
   "metadata": {
    "id": "ajJ7VKeI0q1Q"
   },
   "source": [
    "## Prueba las hipótesis estadísticas"
   ]
  },
  {
   "cell_type": "markdown",
   "metadata": {
    "id": "AdXAZ-yL0q1Q"
   },
   "source": [
    "Se probará la hipótesis de que son diferentes los ingresos promedio procedentes de los usuarios de los planes de llamada Ultimate y Surf."
   ]
  },
  {
   "cell_type": "markdown",
   "metadata": {
    "id": "IQwa_hsh0q1Q"
   },
   "source": [
    "Se formularán la hipótesis nula y la hipótesis alternativa, se seleccionará la prueba estadística adecuada para comparar los ingresos generados por cada tarifa, y se establecerá el nivel de significancia (valor alfa) que permitirá evaluar la validez de los resultados obtenidos."
   ]
  },
  {
   "cell_type": "code",
   "execution_count": 43,
   "metadata": {
    "id": "nFoPNlPq0q1R"
   },
   "outputs": [
    {
     "name": "stdout",
     "output_type": "stream",
     "text": [
      "\n",
      "--- Prueba de hipótesis: Ingresos por Plan ---\n",
      "Valor p: 1.94666263867042e-97\n",
      "Rechazamos la hipótesis nula: los ingresos entre los planes son significativamente diferentes.\n"
     ]
    }
   ],
   "source": [
    "# Prueba las hipótesis\n",
    "\n",
    "alpha = 0.05 # Definir el nivel de significancia\n",
    "\n",
    "# Estadísticas descriptivas para los ingresos por plan\n",
    "mean_surf = 282.364997\n",
    "std_surf = 161.123770\n",
    "var_surf = 25960.869119\n",
    "mean_ultimate = 167.018233\n",
    "std_ultimate = 86.900973\n",
    "var_ultimate = 7551.779161\n",
    "\n",
    "# Tamaño de las muestras basado en los datos originales\n",
    "n_surf = len(df[df['plan'] == 'surf'])\n",
    "n_ultimate = len(df[df['plan'] == 'ultimate'])\n",
    "\n",
    "# Hipótesis:\n",
    "# Hipótesis nula H0: No hay diferencia en los ingresos promedio entre los planes Surf y Ultimate.\n",
    "# Hipótesis alternativa H1: Hay una diferencia significativa en los ingresos promedio entre los planes Surf y Ultimate.\n",
    "\n",
    "# Aplicar prueba t para muestras independientes con varianzas desiguales\n",
    "results_plan = st.ttest_ind_from_stats(\n",
    "    mean1=mean_surf, std1=std_surf, nobs1=n_surf,\n",
    "    mean2=mean_ultimate, std2=std_ultimate, nobs2=n_ultimate,\n",
    "    equal_var=False\n",
    ")\n",
    "\n",
    "# Imprimir resultados\n",
    "print(\"\\n--- Prueba de hipótesis: Ingresos por Plan ---\")\n",
    "print('Valor p:', results_plan.pvalue)\n",
    "if results_plan.pvalue < alpha:\n",
    "    print(\"Rechazamos la hipótesis nula: los ingresos entre los planes son significativamente diferentes.\")\n",
    "else:\n",
    "    print(\"No podemos rechazar la hipótesis nula: no hay evidencia suficiente para afirmar que los ingresos son diferentes.\")\n"
   ]
  },
  {
   "cell_type": "markdown",
   "metadata": {
    "id": "tCcAruM60q1R"
   },
   "source": [
    "Comparación de ingresos por región geográfica\n",
    "\n",
    "Se evaluará si existen diferencias significativas en el ingreso promedio de los usuarios ubicados en el área NY-NJ respecto a los usuarios de otras regiones. Para ello:\n",
    "\n",
    "Se formularán la hipótesis nula y la hipótesis alternativa correspondientes.\n",
    "\n",
    "Se seleccionará la prueba estadística adecuada para comparar ambas muestras.\n",
    "\n",
    "Se definirá el nivel de significancia (valor alfa) con el fin de establecer el criterio de decisión para aceptar o rechazar la hipótesis nula."
   ]
  },
  {
   "cell_type": "code",
   "execution_count": 44,
   "metadata": {
    "id": "Cqcj7wrZ0q1S",
    "scrolled": false
   },
   "outputs": [
    {
     "name": "stdout",
     "output_type": "stream",
     "text": [
      "\n",
      "--- Prueba de hipótesis: Ingresos NY-NJ vs Otras Regiones ---\n",
      "Valor p: 0.00876594195209473\n",
      "Rechazamos la hipótesis nula: los ingresos entre NY-NJ y otras regiones son significativamente diferentes.\n"
     ]
    }
   ],
   "source": [
    "# Prueba de hipótesis 2: Comparar los ingresos promedio de usuarios del área NY-NJ con otras regiones\n",
    "\n",
    "# Hipótesis:\n",
    "# Hipótesis nula Ho: No hay diferencia en los ingresos promedio entre los usuarios de NY-NJ y los de otras regiones.\n",
    "# Hipótesis alternativa H1: Hay una diferencia significativa en los ingresos promedio entre los usuarios de NY-NJ y los de otras regiones.\n",
    "\n",
    "# Verificar si la columna \"city\" está presente en el DataFrame\n",
    "if 'city' not in df.columns:\n",
    "    # Fusionar los datos de usuarios para asegurarse de que \"city\" está presente\n",
    "    df = df.merge(users[['user_id', 'city']], on='user_id', how='left')\n",
    "\n",
    "# Extraer datos de ingresos para NY-NJ y otras regiones\n",
    "ny_nj_income = df[df['city'].str.contains(\"New York|Newark|Jersey\", case=False, na=False)]['income']\n",
    "other_income = df[~df['city'].str.contains(\"New York|Newark|Jersey\", case=False, na=False)]['income']\n",
    "\n",
    "# Aplicar prueba t para muestras independientes\n",
    "results_ny = st.ttest_ind(ny_nj_income, other_income, equal_var=False)\n",
    "\n",
    "# Imprimir resultados\n",
    "print(\"\\n--- Prueba de hipótesis: Ingresos NY-NJ vs Otras Regiones ---\")\n",
    "print('Valor p:', results_ny.pvalue)\n",
    "if results_ny.pvalue < alpha:\n",
    "    print(\"Rechazamos la hipótesis nula: los ingresos entre NY-NJ y otras regiones son significativamente diferentes.\")\n",
    "else:\n",
    "    print(\"No podemos rechazar la hipótesis nula: no hay evidencia suficiente para afirmar que los ingresos son diferentes.\")\n",
    "    "
   ]
  },
  {
   "cell_type": "markdown",
   "metadata": {
    "id": "bbTR8UQO0q1T"
   },
   "source": [
    "## Conclusión general\n",
    "\n",
    "\n",
    "1️⃣ Procesamiento y Análisis de Datos:\n",
    "\n",
    "Se limpiaron, transformaron y fusionaron los datos de llamadas, mensajes e internet para calcular el consumo mensual de cada usuario y su ingreso total.\n",
    "Se agregaron columnas clave, como el mes y la ciudad, para facilitar el análisis.\n",
    "\n",
    "2️⃣ Comportamiento de los Usuarios:\n",
    "\n",
    "Los usuarios del plan Surf tienden a generar más ingresos debido a costos adicionales por minutos, mensajes y datos fuera del límite del plan.\n",
    "Los usuarios de Ultimate, aunque pagan una tarifa más alta, tienen menos gastos extra, lo que resulta en menor variabilidad en sus ingresos.\n",
    "\n",
    "3️⃣ Análisis de Ingresos por Plan:\n",
    "\n",
    "El plan Surf genera mayores ingresos totales y presenta una distribución más dispersa, con varios usuarios pagando montos significativamente altos.\n",
    "El plan Ultimate tiene ingresos más estables y predecibles debido a su tarifa fija y mayor cobertura en llamadas y datos.\n",
    "\n",
    "4️⃣ Pruebas de Hipótesis:\n",
    "\n",
    "Se encontró una diferencia significativa entre los ingresos de los planes Surf y Ultimate, lo que sugiere que los usuarios de Surf pagan más en costos adicionales.\n",
    "No se encontró evidencia suficiente para afirmar que los ingresos de los usuarios en NY-NJ son diferentes a los de otras regiones.\n",
    "\n",
    "📌 Recomendación:\n",
    "\n",
    "El plan Surf es más rentable en términos de ingresos totales, por lo que la empresa podría enfocarse en promocionarlo más.\n",
    "Sin embargo, Ultimate ofrece estabilidad y podría atraer clientes que prefieren tarifas fijas sin cargos extra.\n",
    "\n",
    "📌 Decisión Estratégica:\n",
    "\n",
    "La empresa debe evaluar si priorizará mayor rentabilidad con Surf o mayor estabilidad con Ultimate, dependiendo de sus objetivos comerciales."
   ]
  }
 ],
 "metadata": {
  "ExecuteTimeLog": [
   {
    "duration": 828,
    "start_time": "2021-11-16T09:21:11.304Z"
   },
   {
    "duration": 893,
    "start_time": "2021-11-16T09:21:17.728Z"
   },
   {
    "duration": 1150,
    "start_time": "2021-11-16T09:21:29.568Z"
   },
   {
    "duration": 3,
    "start_time": "2021-11-16T09:24:14.495Z"
   },
   {
    "duration": 120,
    "start_time": "2021-11-16T09:24:46.630Z"
   },
   {
    "duration": 3,
    "start_time": "2021-11-16T09:28:27.882Z"
   },
   {
    "duration": 4,
    "start_time": "2021-11-16T09:29:54.281Z"
   },
   {
    "duration": 3,
    "start_time": "2021-11-16T09:30:45.936Z"
   },
   {
    "duration": 4,
    "start_time": "2021-11-16T09:31:06.300Z"
   },
   {
    "duration": 113,
    "start_time": "2021-11-16T09:31:37.208Z"
   },
   {
    "duration": 143,
    "start_time": "2021-11-16T09:31:48.656Z"
   },
   {
    "duration": 98,
    "start_time": "2021-11-16T09:31:55.678Z"
   },
   {
    "duration": 3,
    "start_time": "2021-11-16T09:32:08.535Z"
   },
   {
    "duration": 111,
    "start_time": "2021-11-16T09:32:10.120Z"
   },
   {
    "duration": 3,
    "start_time": "2021-11-16T09:32:15.732Z"
   },
   {
    "duration": 4,
    "start_time": "2021-11-16T09:32:29.423Z"
   },
   {
    "duration": 3,
    "start_time": "2021-11-16T10:03:03.074Z"
   },
   {
    "duration": 3,
    "start_time": "2021-11-16T10:10:01.288Z"
   },
   {
    "duration": 3,
    "start_time": "2021-11-16T10:10:46.923Z"
   },
   {
    "duration": 121,
    "start_time": "2021-11-16T10:37:46.494Z"
   },
   {
    "duration": 125,
    "start_time": "2021-11-16T10:38:20.632Z"
   },
   {
    "duration": 112,
    "start_time": "2021-11-16T10:46:53.001Z"
   },
   {
    "duration": 110,
    "start_time": "2021-11-16T10:48:25.775Z"
   },
   {
    "duration": 3,
    "start_time": "2021-11-16T10:50:18.720Z"
   },
   {
    "duration": 4,
    "start_time": "2021-11-16T10:50:37.649Z"
   },
   {
    "duration": 2,
    "start_time": "2021-11-16T10:50:51.884Z"
   },
   {
    "duration": 3,
    "start_time": "2021-11-16T10:51:56.237Z"
   },
   {
    "duration": 101,
    "start_time": "2021-11-16T10:53:13.791Z"
   },
   {
    "duration": 3,
    "start_time": "2021-11-16T10:55:59.186Z"
   },
   {
    "duration": 3,
    "start_time": "2021-11-16T10:56:10.751Z"
   },
   {
    "duration": 3,
    "start_time": "2021-11-16T10:56:49.038Z"
   },
   {
    "duration": 3,
    "start_time": "2021-11-16T10:56:49.174Z"
   },
   {
    "duration": 4,
    "start_time": "2021-11-16T10:56:49.414Z"
   },
   {
    "duration": 3,
    "start_time": "2021-11-16T10:56:49.680Z"
   },
   {
    "duration": 3,
    "start_time": "2021-11-16T10:56:50.370Z"
   },
   {
    "duration": 114,
    "start_time": "2021-11-16T10:59:34.518Z"
   },
   {
    "duration": 3,
    "start_time": "2021-11-16T11:01:41.201Z"
   },
   {
    "duration": 116,
    "start_time": "2021-11-16T11:01:48.754Z"
   },
   {
    "duration": 3,
    "start_time": "2021-11-16T11:02:16.685Z"
   },
   {
    "duration": 3,
    "start_time": "2021-11-16T11:02:19.479Z"
   },
   {
    "duration": 3,
    "start_time": "2021-11-16T11:02:47.067Z"
   },
   {
    "duration": 3,
    "start_time": "2021-11-16T11:02:49.353Z"
   },
   {
    "duration": 3,
    "start_time": "2021-11-16T11:03:07.835Z"
   },
   {
    "duration": 3,
    "start_time": "2021-11-16T11:03:07.953Z"
   },
   {
    "duration": 112,
    "start_time": "2021-11-16T11:07:52.072Z"
   },
   {
    "duration": 187,
    "start_time": "2021-11-16T11:09:23.468Z"
   },
   {
    "duration": 4,
    "start_time": "2021-11-16T11:10:01.455Z"
   },
   {
    "duration": 3,
    "start_time": "2021-11-16T11:10:05.069Z"
   },
   {
    "duration": 4,
    "start_time": "2021-11-16T11:10:13.376Z"
   },
   {
    "duration": 3,
    "start_time": "2021-11-16T11:10:14.434Z"
   },
   {
    "duration": 3,
    "start_time": "2021-11-16T11:10:22.853Z"
   },
   {
    "duration": 4,
    "start_time": "2021-11-16T11:27:29.279Z"
   },
   {
    "duration": 4,
    "start_time": "2021-11-16T11:29:08.919Z"
   },
   {
    "duration": 118,
    "start_time": "2021-11-16T11:29:46.703Z"
   },
   {
    "duration": 437,
    "start_time": "2021-11-16T11:36:02.181Z"
   },
   {
    "duration": 157,
    "start_time": "2021-11-16T11:36:14.388Z"
   },
   {
    "duration": 207,
    "start_time": "2021-11-16T11:47:15.898Z"
   },
   {
    "duration": 3,
    "start_time": "2021-11-16T11:53:52.092Z"
   },
   {
    "duration": 3,
    "start_time": "2021-11-16T11:53:52.236Z"
   },
   {
    "duration": 3,
    "start_time": "2021-11-16T11:59:12.005Z"
   },
   {
    "duration": 112,
    "start_time": "2021-11-16T12:00:33.446Z"
   },
   {
    "duration": 3,
    "start_time": "2021-11-16T12:02:14.453Z"
   },
   {
    "duration": 3,
    "start_time": "2021-11-16T12:02:39.512Z"
   },
   {
    "duration": 106,
    "start_time": "2021-11-16T12:03:03.460Z"
   },
   {
    "duration": 3,
    "start_time": "2021-11-17T20:37:21.139Z"
   },
   {
    "duration": 3,
    "start_time": "2021-11-17T20:37:22.229Z"
   },
   {
    "duration": 3,
    "start_time": "2021-11-17T20:38:38.806Z"
   },
   {
    "duration": 3,
    "start_time": "2021-11-17T20:38:41.958Z"
   },
   {
    "duration": 3,
    "start_time": "2021-11-17T20:43:46.551Z"
   },
   {
    "duration": 4,
    "start_time": "2021-11-17T20:58:21.835Z"
   },
   {
    "duration": 3,
    "start_time": "2021-11-17T20:59:21.872Z"
   },
   {
    "duration": 4,
    "start_time": "2021-11-17T20:59:45.352Z"
   },
   {
    "duration": 4,
    "start_time": "2021-11-17T20:59:49.646Z"
   },
   {
    "duration": 159,
    "start_time": "2021-11-17T21:02:26.949Z"
   },
   {
    "duration": 3,
    "start_time": "2021-11-17T21:03:53.461Z"
   },
   {
    "duration": 3,
    "start_time": "2021-11-17T21:03:53.694Z"
   },
   {
    "duration": 3,
    "start_time": "2021-11-17T21:05:28.145Z"
   },
   {
    "duration": 116,
    "start_time": "2021-11-17T21:05:57.787Z"
   },
   {
    "duration": 3,
    "start_time": "2021-11-17T21:06:37.993Z"
   },
   {
    "duration": 3,
    "start_time": "2021-11-17T21:06:38.261Z"
   },
   {
    "duration": 3,
    "start_time": "2021-11-17T21:11:54.358Z"
   },
   {
    "duration": 3,
    "start_time": "2021-11-17T21:12:43.846Z"
   },
   {
    "duration": 4,
    "start_time": "2021-11-17T21:13:08.773Z"
   },
   {
    "duration": 3,
    "start_time": "2021-11-17T21:14:44.441Z"
   },
   {
    "duration": 3,
    "start_time": "2021-11-17T21:15:42.059Z"
   },
   {
    "duration": 4,
    "start_time": "2021-11-17T21:15:51.995Z"
   },
   {
    "duration": 3,
    "start_time": "2021-11-17T21:15:53.923Z"
   },
   {
    "duration": 3,
    "start_time": "2021-11-17T21:15:55.282Z"
   },
   {
    "duration": 3,
    "start_time": "2021-11-17T21:16:28.492Z"
   },
   {
    "duration": 3,
    "start_time": "2021-11-17T21:16:32.603Z"
   },
   {
    "duration": 3,
    "start_time": "2021-11-17T21:17:06.941Z"
   },
   {
    "duration": 98,
    "start_time": "2021-11-17T21:18:05.733Z"
   },
   {
    "duration": 4,
    "start_time": "2021-11-17T21:21:35.255Z"
   },
   {
    "duration": 3,
    "start_time": "2021-11-17T21:21:37.804Z"
   },
   {
    "duration": 4,
    "start_time": "2021-11-17T21:23:06.071Z"
   },
   {
    "duration": 3,
    "start_time": "2021-11-17T21:23:24.799Z"
   },
   {
    "duration": 3,
    "start_time": "2021-11-17T21:23:32.591Z"
   },
   {
    "duration": 98,
    "start_time": "2021-11-17T21:28:31.559Z"
   },
   {
    "duration": 3,
    "start_time": "2021-11-17T21:28:45.448Z"
   },
   {
    "duration": 3,
    "start_time": "2021-11-17T21:29:17.303Z"
   },
   {
    "duration": 3,
    "start_time": "2021-11-17T21:29:29.617Z"
   },
   {
    "duration": 3,
    "start_time": "2021-11-17T21:29:32.681Z"
   },
   {
    "duration": 3,
    "start_time": "2021-11-17T21:36:11.474Z"
   },
   {
    "duration": 3,
    "start_time": "2021-11-17T21:36:14.791Z"
   },
   {
    "duration": 3,
    "start_time": "2021-11-17T21:36:53.943Z"
   },
   {
    "duration": 3,
    "start_time": "2021-11-17T21:36:56.165Z"
   },
   {
    "duration": 4,
    "start_time": "2021-11-17T21:37:16.590Z"
   },
   {
    "duration": 3,
    "start_time": "2021-11-17T21:37:22.702Z"
   },
   {
    "duration": 4,
    "start_time": "2021-11-17T21:38:03.479Z"
   },
   {
    "duration": 3,
    "start_time": "2021-11-17T21:38:08.601Z"
   },
   {
    "duration": 3,
    "start_time": "2021-11-17T21:38:12.928Z"
   },
   {
    "duration": 3,
    "start_time": "2021-11-17T21:38:48.896Z"
   },
   {
    "duration": 2,
    "start_time": "2021-11-17T21:38:49.171Z"
   },
   {
    "duration": 4,
    "start_time": "2021-11-17T21:39:57.889Z"
   },
   {
    "duration": 3,
    "start_time": "2021-11-17T21:39:58.057Z"
   },
   {
    "duration": 3,
    "start_time": "2021-11-17T21:41:20.108Z"
   },
   {
    "duration": 3,
    "start_time": "2021-11-17T21:41:20.629Z"
   },
   {
    "duration": 3,
    "start_time": "2021-11-17T21:42:49.136Z"
   },
   {
    "duration": 3,
    "start_time": "2021-11-17T21:43:15.137Z"
   },
   {
    "duration": 4,
    "start_time": "2021-11-17T21:43:16.766Z"
   },
   {
    "duration": 4,
    "start_time": "2021-11-17T21:43:31.711Z"
   },
   {
    "duration": 3,
    "start_time": "2021-11-17T21:43:36.312Z"
   },
   {
    "duration": 4,
    "start_time": "2021-11-17T21:45:08.825Z"
   },
   {
    "duration": 4,
    "start_time": "2021-11-17T21:45:10.119Z"
   },
   {
    "duration": 4,
    "start_time": "2021-11-17T21:45:13.748Z"
   },
   {
    "duration": 3,
    "start_time": "2021-11-17T21:45:22.219Z"
   },
   {
    "duration": 3,
    "start_time": "2021-11-17T21:45:33.412Z"
   },
   {
    "duration": 2,
    "start_time": "2021-11-17T21:46:01.885Z"
   },
   {
    "duration": 3,
    "start_time": "2021-11-17T21:46:03.628Z"
   },
   {
    "duration": 107,
    "start_time": "2021-11-17T21:47:32.512Z"
   },
   {
    "duration": 103,
    "start_time": "2021-11-17T21:50:36.243Z"
   },
   {
    "duration": 3,
    "start_time": "2021-11-18T06:28:31.440Z"
   },
   {
    "duration": 3,
    "start_time": "2021-11-18T06:29:00.168Z"
   },
   {
    "duration": 3,
    "start_time": "2021-11-18T06:31:27.008Z"
   },
   {
    "duration": 2,
    "start_time": "2021-11-18T06:35:34.288Z"
   },
   {
    "duration": 2,
    "start_time": "2021-11-18T06:38:04.527Z"
   },
   {
    "duration": 2474,
    "start_time": "2025-02-22T19:10:07.967Z"
   },
   {
    "duration": 226,
    "start_time": "2025-02-22T19:10:19.141Z"
   },
   {
    "duration": 50,
    "start_time": "2025-02-22T20:10:50.237Z"
   },
   {
    "duration": 10,
    "start_time": "2025-02-22T20:36:55.513Z"
   },
   {
    "duration": 36,
    "start_time": "2025-02-22T21:10:08.618Z"
   },
   {
    "duration": 27,
    "start_time": "2025-02-22T21:10:28.845Z"
   },
   {
    "duration": 9,
    "start_time": "2025-02-22T21:12:53.227Z"
   },
   {
    "duration": 6,
    "start_time": "2025-02-22T21:13:19.167Z"
   },
   {
    "duration": 2,
    "start_time": "2025-02-22T21:31:46.375Z"
   },
   {
    "duration": 2,
    "start_time": "2025-02-22T21:31:57.569Z"
   },
   {
    "duration": 13,
    "start_time": "2025-02-22T21:33:00.460Z"
   },
   {
    "duration": 4,
    "start_time": "2025-02-22T21:33:09.588Z"
   },
   {
    "duration": 2,
    "start_time": "2025-02-22T21:44:10.519Z"
   },
   {
    "duration": 2,
    "start_time": "2025-02-22T21:44:38.483Z"
   },
   {
    "duration": 11,
    "start_time": "2025-02-22T21:45:50.117Z"
   },
   {
    "duration": 5,
    "start_time": "2025-02-22T21:45:58.310Z"
   },
   {
    "duration": 2,
    "start_time": "2025-02-22T21:50:41.940Z"
   },
   {
    "duration": 12,
    "start_time": "2025-02-22T21:52:26.650Z"
   },
   {
    "duration": 5,
    "start_time": "2025-02-22T21:52:36.104Z"
   },
   {
    "duration": 2,
    "start_time": "2025-02-22T21:57:39.834Z"
   },
   {
    "duration": 2,
    "start_time": "2025-02-22T21:57:43.835Z"
   },
   {
    "duration": 5,
    "start_time": "2025-02-22T21:59:23.839Z"
   },
   {
    "duration": 16,
    "start_time": "2025-02-22T22:03:59.186Z"
   },
   {
    "duration": 13,
    "start_time": "2025-02-22T22:04:24.832Z"
   },
   {
    "duration": 10,
    "start_time": "2025-02-22T22:04:36.652Z"
   },
   {
    "duration": 9,
    "start_time": "2025-02-22T22:04:51.335Z"
   },
   {
    "duration": 13,
    "start_time": "2025-02-22T22:08:18.443Z"
   },
   {
    "duration": 15,
    "start_time": "2025-02-22T22:09:07.561Z"
   },
   {
    "duration": 6,
    "start_time": "2025-02-22T22:09:19.992Z"
   },
   {
    "duration": 13,
    "start_time": "2025-02-22T22:16:56.825Z"
   },
   {
    "duration": 5,
    "start_time": "2025-02-22T22:35:52.954Z"
   },
   {
    "duration": 196,
    "start_time": "2025-02-22T22:39:49.478Z"
   },
   {
    "duration": 516,
    "start_time": "2025-02-22T22:51:04.970Z"
   },
   {
    "duration": 187,
    "start_time": "2025-02-22T22:52:48.252Z"
   },
   {
    "duration": 180,
    "start_time": "2025-02-22T22:53:36.688Z"
   },
   {
    "duration": 186,
    "start_time": "2025-02-22T22:53:50.747Z"
   },
   {
    "duration": 184,
    "start_time": "2025-02-22T22:54:30.489Z"
   },
   {
    "duration": 6,
    "start_time": "2025-02-22T22:56:05.832Z"
   },
   {
    "duration": 124,
    "start_time": "2025-02-22T22:56:23.486Z"
   },
   {
    "duration": 117,
    "start_time": "2025-02-22T22:57:22.700Z"
   },
   {
    "duration": 111,
    "start_time": "2025-02-22T22:57:33.330Z"
   },
   {
    "duration": 827,
    "start_time": "2025-02-22T22:57:41.234Z"
   },
   {
    "duration": 162,
    "start_time": "2025-02-22T22:57:42.063Z"
   },
   {
    "duration": 49,
    "start_time": "2025-02-22T22:57:42.227Z"
   },
   {
    "duration": 9,
    "start_time": "2025-02-22T22:57:42.279Z"
   },
   {
    "duration": 53,
    "start_time": "2025-02-22T22:57:42.290Z"
   },
   {
    "duration": 18,
    "start_time": "2025-02-22T22:57:42.345Z"
   },
   {
    "duration": 9,
    "start_time": "2025-02-22T22:57:42.365Z"
   },
   {
    "duration": 6,
    "start_time": "2025-02-22T22:57:42.375Z"
   },
   {
    "duration": 26,
    "start_time": "2025-02-22T22:57:42.383Z"
   },
   {
    "duration": 2,
    "start_time": "2025-02-22T22:57:42.413Z"
   },
   {
    "duration": 12,
    "start_time": "2025-02-22T22:57:42.416Z"
   },
   {
    "duration": 5,
    "start_time": "2025-02-22T22:57:42.429Z"
   },
   {
    "duration": 2,
    "start_time": "2025-02-22T22:57:42.436Z"
   },
   {
    "duration": 2,
    "start_time": "2025-02-22T22:57:42.440Z"
   },
   {
    "duration": 9,
    "start_time": "2025-02-22T22:57:42.444Z"
   },
   {
    "duration": 4,
    "start_time": "2025-02-22T22:57:42.455Z"
   },
   {
    "duration": 3,
    "start_time": "2025-02-22T22:57:42.461Z"
   },
   {
    "duration": 43,
    "start_time": "2025-02-22T22:57:42.466Z"
   },
   {
    "duration": 11,
    "start_time": "2025-02-22T22:57:42.511Z"
   },
   {
    "duration": 5,
    "start_time": "2025-02-22T22:57:42.524Z"
   },
   {
    "duration": 3,
    "start_time": "2025-02-22T22:57:42.530Z"
   },
   {
    "duration": 3,
    "start_time": "2025-02-22T22:57:42.534Z"
   },
   {
    "duration": 5,
    "start_time": "2025-02-22T22:57:42.539Z"
   },
   {
    "duration": 16,
    "start_time": "2025-02-22T22:57:42.545Z"
   },
   {
    "duration": 46,
    "start_time": "2025-02-22T22:57:42.563Z"
   },
   {
    "duration": 9,
    "start_time": "2025-02-22T22:57:42.611Z"
   },
   {
    "duration": 8,
    "start_time": "2025-02-22T22:57:42.622Z"
   },
   {
    "duration": 14,
    "start_time": "2025-02-22T22:57:42.634Z"
   },
   {
    "duration": 5,
    "start_time": "2025-02-22T22:57:42.650Z"
   },
   {
    "duration": 13,
    "start_time": "2025-02-22T22:57:42.656Z"
   },
   {
    "duration": 238,
    "start_time": "2025-02-22T22:57:42.671Z"
   },
   {
    "duration": 190,
    "start_time": "2025-02-22T22:57:42.910Z"
   },
   {
    "duration": 11,
    "start_time": "2025-02-22T22:57:43.102Z"
   },
   {
    "duration": 179,
    "start_time": "2025-02-22T22:57:43.114Z"
   },
   {
    "duration": 3,
    "start_time": "2025-02-22T22:57:43.294Z"
   },
   {
    "duration": 11,
    "start_time": "2025-02-22T22:57:43.298Z"
   },
   {
    "duration": 2,
    "start_time": "2025-02-22T22:57:43.311Z"
   },
   {
    "duration": 2,
    "start_time": "2025-02-22T22:57:43.315Z"
   },
   {
    "duration": 6,
    "start_time": "2025-02-22T23:06:44.785Z"
   },
   {
    "duration": 237,
    "start_time": "2025-02-22T23:07:28.970Z"
   },
   {
    "duration": 804,
    "start_time": "2025-02-22T23:07:53.493Z"
   },
   {
    "duration": 156,
    "start_time": "2025-02-22T23:07:54.300Z"
   },
   {
    "duration": 55,
    "start_time": "2025-02-22T23:07:54.457Z"
   },
   {
    "duration": 10,
    "start_time": "2025-02-22T23:07:54.514Z"
   },
   {
    "duration": 36,
    "start_time": "2025-02-22T23:07:54.526Z"
   },
   {
    "duration": 18,
    "start_time": "2025-02-22T23:07:54.563Z"
   },
   {
    "duration": 26,
    "start_time": "2025-02-22T23:07:54.583Z"
   },
   {
    "duration": 5,
    "start_time": "2025-02-22T23:07:54.611Z"
   },
   {
    "duration": 2,
    "start_time": "2025-02-22T23:07:54.618Z"
   },
   {
    "duration": 2,
    "start_time": "2025-02-22T23:07:54.622Z"
   },
   {
    "duration": 12,
    "start_time": "2025-02-22T23:07:54.626Z"
   },
   {
    "duration": 5,
    "start_time": "2025-02-22T23:07:54.639Z"
   },
   {
    "duration": 3,
    "start_time": "2025-02-22T23:07:54.645Z"
   },
   {
    "duration": 2,
    "start_time": "2025-02-22T23:07:54.651Z"
   },
   {
    "duration": 10,
    "start_time": "2025-02-22T23:07:54.655Z"
   },
   {
    "duration": 44,
    "start_time": "2025-02-22T23:07:54.667Z"
   },
   {
    "duration": 3,
    "start_time": "2025-02-22T23:07:54.713Z"
   },
   {
    "duration": 3,
    "start_time": "2025-02-22T23:07:54.717Z"
   },
   {
    "duration": 11,
    "start_time": "2025-02-22T23:07:54.722Z"
   },
   {
    "duration": 5,
    "start_time": "2025-02-22T23:07:54.734Z"
   },
   {
    "duration": 3,
    "start_time": "2025-02-22T23:07:54.740Z"
   },
   {
    "duration": 3,
    "start_time": "2025-02-22T23:07:54.744Z"
   },
   {
    "duration": 6,
    "start_time": "2025-02-22T23:07:54.748Z"
   },
   {
    "duration": 57,
    "start_time": "2025-02-22T23:07:54.755Z"
   },
   {
    "duration": 12,
    "start_time": "2025-02-22T23:07:54.813Z"
   },
   {
    "duration": 9,
    "start_time": "2025-02-22T23:07:54.826Z"
   },
   {
    "duration": 9,
    "start_time": "2025-02-22T23:07:54.836Z"
   },
   {
    "duration": 14,
    "start_time": "2025-02-22T23:07:54.846Z"
   },
   {
    "duration": 6,
    "start_time": "2025-02-22T23:07:54.862Z"
   },
   {
    "duration": 39,
    "start_time": "2025-02-22T23:07:54.870Z"
   },
   {
    "duration": 217,
    "start_time": "2025-02-22T23:07:54.910Z"
   },
   {
    "duration": 192,
    "start_time": "2025-02-22T23:07:55.128Z"
   },
   {
    "duration": 6,
    "start_time": "2025-02-22T23:07:55.322Z"
   },
   {
    "duration": 179,
    "start_time": "2025-02-22T23:07:55.330Z"
   },
   {
    "duration": 222,
    "start_time": "2025-02-22T23:07:55.511Z"
   },
   {
    "duration": 0,
    "start_time": "2025-02-22T23:07:55.734Z"
   },
   {
    "duration": 0,
    "start_time": "2025-02-22T23:07:55.735Z"
   },
   {
    "duration": 0,
    "start_time": "2025-02-22T23:07:55.736Z"
   },
   {
    "duration": 19,
    "start_time": "2025-02-22T23:08:23.753Z"
   },
   {
    "duration": 186,
    "start_time": "2025-02-22T23:18:14.878Z"
   },
   {
    "duration": 833,
    "start_time": "2025-02-22T23:18:22.349Z"
   },
   {
    "duration": 157,
    "start_time": "2025-02-22T23:18:23.184Z"
   },
   {
    "duration": 50,
    "start_time": "2025-02-22T23:18:23.343Z"
   },
   {
    "duration": 17,
    "start_time": "2025-02-22T23:18:23.395Z"
   },
   {
    "duration": 36,
    "start_time": "2025-02-22T23:18:23.413Z"
   },
   {
    "duration": 18,
    "start_time": "2025-02-22T23:18:23.451Z"
   },
   {
    "duration": 9,
    "start_time": "2025-02-22T23:18:23.471Z"
   },
   {
    "duration": 31,
    "start_time": "2025-02-22T23:18:23.481Z"
   },
   {
    "duration": 3,
    "start_time": "2025-02-22T23:18:23.514Z"
   },
   {
    "duration": 2,
    "start_time": "2025-02-22T23:18:23.520Z"
   },
   {
    "duration": 12,
    "start_time": "2025-02-22T23:18:23.524Z"
   },
   {
    "duration": 4,
    "start_time": "2025-02-22T23:18:23.537Z"
   },
   {
    "duration": 2,
    "start_time": "2025-02-22T23:18:23.543Z"
   },
   {
    "duration": 3,
    "start_time": "2025-02-22T23:18:23.547Z"
   },
   {
    "duration": 11,
    "start_time": "2025-02-22T23:18:23.551Z"
   },
   {
    "duration": 4,
    "start_time": "2025-02-22T23:18:23.564Z"
   },
   {
    "duration": 3,
    "start_time": "2025-02-22T23:18:23.610Z"
   },
   {
    "duration": 3,
    "start_time": "2025-02-22T23:18:23.614Z"
   },
   {
    "duration": 13,
    "start_time": "2025-02-22T23:18:23.618Z"
   },
   {
    "duration": 5,
    "start_time": "2025-02-22T23:18:23.633Z"
   },
   {
    "duration": 3,
    "start_time": "2025-02-22T23:18:23.639Z"
   },
   {
    "duration": 3,
    "start_time": "2025-02-22T23:18:23.643Z"
   },
   {
    "duration": 5,
    "start_time": "2025-02-22T23:18:23.648Z"
   },
   {
    "duration": 57,
    "start_time": "2025-02-22T23:18:23.654Z"
   },
   {
    "duration": 12,
    "start_time": "2025-02-22T23:18:23.712Z"
   },
   {
    "duration": 9,
    "start_time": "2025-02-22T23:18:23.726Z"
   },
   {
    "duration": 9,
    "start_time": "2025-02-22T23:18:23.736Z"
   },
   {
    "duration": 14,
    "start_time": "2025-02-22T23:18:23.749Z"
   },
   {
    "duration": 6,
    "start_time": "2025-02-22T23:18:23.764Z"
   },
   {
    "duration": 44,
    "start_time": "2025-02-22T23:18:23.772Z"
   },
   {
    "duration": 207,
    "start_time": "2025-02-22T23:18:23.819Z"
   },
   {
    "duration": 191,
    "start_time": "2025-02-22T23:18:24.027Z"
   },
   {
    "duration": 6,
    "start_time": "2025-02-22T23:18:24.220Z"
   },
   {
    "duration": 167,
    "start_time": "2025-02-22T23:18:24.227Z"
   },
   {
    "duration": 197,
    "start_time": "2025-02-22T23:18:24.396Z"
   },
   {
    "duration": 3,
    "start_time": "2025-02-22T23:18:24.595Z"
   },
   {
    "duration": 10,
    "start_time": "2025-02-22T23:18:24.599Z"
   },
   {
    "duration": 2,
    "start_time": "2025-02-22T23:18:24.610Z"
   },
   {
    "duration": 188,
    "start_time": "2025-02-22T23:18:28.737Z"
   },
   {
    "duration": 396,
    "start_time": "2025-02-22T23:19:38.814Z"
   },
   {
    "duration": 190,
    "start_time": "2025-02-22T23:20:06.832Z"
   },
   {
    "duration": 188,
    "start_time": "2025-02-22T23:20:36.522Z"
   },
   {
    "duration": 8,
    "start_time": "2025-02-22T23:21:57.678Z"
   },
   {
    "duration": 188,
    "start_time": "2025-02-22T23:22:30.560Z"
   },
   {
    "duration": 253,
    "start_time": "2025-02-22T23:23:30.094Z"
   },
   {
    "duration": 188,
    "start_time": "2025-02-22T23:24:13.996Z"
   },
   {
    "duration": 200,
    "start_time": "2025-02-22T23:24:17.531Z"
   },
   {
    "duration": 817,
    "start_time": "2025-02-22T23:24:34.332Z"
   },
   {
    "duration": 157,
    "start_time": "2025-02-22T23:24:35.151Z"
   },
   {
    "duration": 50,
    "start_time": "2025-02-22T23:24:35.310Z"
   },
   {
    "duration": 13,
    "start_time": "2025-02-22T23:24:35.362Z"
   },
   {
    "duration": 50,
    "start_time": "2025-02-22T23:24:35.378Z"
   },
   {
    "duration": 18,
    "start_time": "2025-02-22T23:24:35.431Z"
   },
   {
    "duration": 8,
    "start_time": "2025-02-22T23:24:35.450Z"
   },
   {
    "duration": 5,
    "start_time": "2025-02-22T23:24:35.460Z"
   },
   {
    "duration": 2,
    "start_time": "2025-02-22T23:24:35.467Z"
   },
   {
    "duration": 2,
    "start_time": "2025-02-22T23:24:35.473Z"
   },
   {
    "duration": 40,
    "start_time": "2025-02-22T23:24:35.477Z"
   },
   {
    "duration": 5,
    "start_time": "2025-02-22T23:24:35.519Z"
   },
   {
    "duration": 2,
    "start_time": "2025-02-22T23:24:35.526Z"
   },
   {
    "duration": 2,
    "start_time": "2025-02-22T23:24:35.530Z"
   },
   {
    "duration": 10,
    "start_time": "2025-02-22T23:24:35.533Z"
   },
   {
    "duration": 4,
    "start_time": "2025-02-22T23:24:35.545Z"
   },
   {
    "duration": 3,
    "start_time": "2025-02-22T23:24:35.551Z"
   },
   {
    "duration": 3,
    "start_time": "2025-02-22T23:24:35.555Z"
   },
   {
    "duration": 49,
    "start_time": "2025-02-22T23:24:35.560Z"
   },
   {
    "duration": 4,
    "start_time": "2025-02-22T23:24:35.611Z"
   },
   {
    "duration": 3,
    "start_time": "2025-02-22T23:24:35.617Z"
   },
   {
    "duration": 3,
    "start_time": "2025-02-22T23:24:35.621Z"
   },
   {
    "duration": 5,
    "start_time": "2025-02-22T23:24:35.625Z"
   },
   {
    "duration": 16,
    "start_time": "2025-02-22T23:24:35.632Z"
   },
   {
    "duration": 12,
    "start_time": "2025-02-22T23:24:35.649Z"
   },
   {
    "duration": 9,
    "start_time": "2025-02-22T23:24:35.662Z"
   },
   {
    "duration": 42,
    "start_time": "2025-02-22T23:24:35.673Z"
   },
   {
    "duration": 14,
    "start_time": "2025-02-22T23:24:35.719Z"
   },
   {
    "duration": 6,
    "start_time": "2025-02-22T23:24:35.734Z"
   },
   {
    "duration": 12,
    "start_time": "2025-02-22T23:24:35.742Z"
   },
   {
    "duration": 230,
    "start_time": "2025-02-22T23:24:35.756Z"
   },
   {
    "duration": 194,
    "start_time": "2025-02-22T23:24:35.988Z"
   },
   {
    "duration": 6,
    "start_time": "2025-02-22T23:24:36.184Z"
   },
   {
    "duration": 172,
    "start_time": "2025-02-22T23:24:36.192Z"
   },
   {
    "duration": 196,
    "start_time": "2025-02-22T23:24:36.366Z"
   },
   {
    "duration": 201,
    "start_time": "2025-02-22T23:24:36.563Z"
   },
   {
    "duration": 2,
    "start_time": "2025-02-22T23:24:36.766Z"
   },
   {
    "duration": 2,
    "start_time": "2025-02-22T23:24:36.770Z"
   },
   {
    "duration": 5,
    "start_time": "2025-02-23T01:49:01.705Z"
   },
   {
    "duration": 188,
    "start_time": "2025-02-23T01:49:25.814Z"
   },
   {
    "duration": 235,
    "start_time": "2025-02-23T01:50:14.605Z"
   },
   {
    "duration": 196,
    "start_time": "2025-02-23T01:50:30.545Z"
   },
   {
    "duration": 106,
    "start_time": "2025-02-23T01:51:06.230Z"
   },
   {
    "duration": 166,
    "start_time": "2025-02-23T18:54:57.405Z"
   },
   {
    "duration": 16,
    "start_time": "2025-02-23T18:55:39.518Z"
   },
   {
    "duration": 2447,
    "start_time": "2025-02-23T18:55:47.192Z"
   },
   {
    "duration": 212,
    "start_time": "2025-02-23T18:55:49.642Z"
   },
   {
    "duration": 49,
    "start_time": "2025-02-23T18:55:49.855Z"
   },
   {
    "duration": 8,
    "start_time": "2025-02-23T18:55:49.907Z"
   },
   {
    "duration": 36,
    "start_time": "2025-02-23T18:55:49.917Z"
   },
   {
    "duration": 19,
    "start_time": "2025-02-23T18:55:49.954Z"
   },
   {
    "duration": 9,
    "start_time": "2025-02-23T18:55:49.975Z"
   },
   {
    "duration": 5,
    "start_time": "2025-02-23T18:55:50.009Z"
   },
   {
    "duration": 2,
    "start_time": "2025-02-23T18:55:50.016Z"
   },
   {
    "duration": 2,
    "start_time": "2025-02-23T18:55:50.023Z"
   },
   {
    "duration": 12,
    "start_time": "2025-02-23T18:55:50.026Z"
   },
   {
    "duration": 4,
    "start_time": "2025-02-23T18:55:50.039Z"
   },
   {
    "duration": 3,
    "start_time": "2025-02-23T18:55:50.045Z"
   },
   {
    "duration": 2,
    "start_time": "2025-02-23T18:55:50.050Z"
   },
   {
    "duration": 10,
    "start_time": "2025-02-23T18:55:50.054Z"
   },
   {
    "duration": 46,
    "start_time": "2025-02-23T18:55:50.065Z"
   },
   {
    "duration": 2,
    "start_time": "2025-02-23T18:55:50.113Z"
   },
   {
    "duration": 2,
    "start_time": "2025-02-23T18:55:50.117Z"
   },
   {
    "duration": 11,
    "start_time": "2025-02-23T18:55:50.121Z"
   },
   {
    "duration": 5,
    "start_time": "2025-02-23T18:55:50.134Z"
   },
   {
    "duration": 2,
    "start_time": "2025-02-23T18:55:50.141Z"
   },
   {
    "duration": 3,
    "start_time": "2025-02-23T18:55:50.144Z"
   },
   {
    "duration": 5,
    "start_time": "2025-02-23T18:55:50.148Z"
   },
   {
    "duration": 60,
    "start_time": "2025-02-23T18:55:50.155Z"
   },
   {
    "duration": 12,
    "start_time": "2025-02-23T18:55:50.216Z"
   },
   {
    "duration": 9,
    "start_time": "2025-02-23T18:55:50.229Z"
   },
   {
    "duration": 8,
    "start_time": "2025-02-23T18:55:50.239Z"
   },
   {
    "duration": 15,
    "start_time": "2025-02-23T18:55:50.252Z"
   },
   {
    "duration": 5,
    "start_time": "2025-02-23T18:55:50.269Z"
   },
   {
    "duration": 42,
    "start_time": "2025-02-23T18:55:50.276Z"
   },
   {
    "duration": 207,
    "start_time": "2025-02-23T18:55:50.320Z"
   },
   {
    "duration": 190,
    "start_time": "2025-02-23T18:55:50.529Z"
   },
   {
    "duration": 6,
    "start_time": "2025-02-23T18:55:50.722Z"
   },
   {
    "duration": 123,
    "start_time": "2025-02-23T18:55:50.731Z"
   },
   {
    "duration": 194,
    "start_time": "2025-02-23T18:55:50.855Z"
   },
   {
    "duration": 199,
    "start_time": "2025-02-23T18:55:51.051Z"
   },
   {
    "duration": 250,
    "start_time": "2025-02-23T18:55:51.252Z"
   },
   {
    "duration": 222,
    "start_time": "2025-02-23T18:55:51.504Z"
   },
   {
    "duration": 0,
    "start_time": "2025-02-23T18:55:51.728Z"
   },
   {
    "duration": 0,
    "start_time": "2025-02-23T18:55:51.729Z"
   },
   {
    "duration": 0,
    "start_time": "2025-02-23T18:55:51.730Z"
   },
   {
    "duration": 184,
    "start_time": "2025-02-23T18:56:52.361Z"
   },
   {
    "duration": 107,
    "start_time": "2025-02-23T18:57:23.894Z"
   },
   {
    "duration": 778,
    "start_time": "2025-02-23T19:22:55.675Z"
   },
   {
    "duration": 158,
    "start_time": "2025-02-23T19:22:56.455Z"
   },
   {
    "duration": 48,
    "start_time": "2025-02-23T19:22:56.614Z"
   },
   {
    "duration": 9,
    "start_time": "2025-02-23T19:22:56.665Z"
   },
   {
    "duration": 48,
    "start_time": "2025-02-23T19:22:56.677Z"
   },
   {
    "duration": 18,
    "start_time": "2025-02-23T19:22:56.727Z"
   },
   {
    "duration": 8,
    "start_time": "2025-02-23T19:22:56.747Z"
   },
   {
    "duration": 6,
    "start_time": "2025-02-23T19:22:56.757Z"
   },
   {
    "duration": 3,
    "start_time": "2025-02-23T19:22:56.764Z"
   },
   {
    "duration": 2,
    "start_time": "2025-02-23T19:22:56.769Z"
   },
   {
    "duration": 45,
    "start_time": "2025-02-23T19:22:56.772Z"
   },
   {
    "duration": 4,
    "start_time": "2025-02-23T19:22:56.819Z"
   },
   {
    "duration": 3,
    "start_time": "2025-02-23T19:22:56.824Z"
   },
   {
    "duration": 2,
    "start_time": "2025-02-23T19:22:56.831Z"
   },
   {
    "duration": 9,
    "start_time": "2025-02-23T19:22:56.836Z"
   },
   {
    "duration": 5,
    "start_time": "2025-02-23T19:22:56.846Z"
   },
   {
    "duration": 2,
    "start_time": "2025-02-23T19:22:56.853Z"
   },
   {
    "duration": 3,
    "start_time": "2025-02-23T19:22:56.857Z"
   },
   {
    "duration": 50,
    "start_time": "2025-02-23T19:22:56.861Z"
   },
   {
    "duration": 5,
    "start_time": "2025-02-23T19:22:56.912Z"
   },
   {
    "duration": 3,
    "start_time": "2025-02-23T19:22:56.919Z"
   },
   {
    "duration": 3,
    "start_time": "2025-02-23T19:22:56.923Z"
   },
   {
    "duration": 6,
    "start_time": "2025-02-23T19:22:56.927Z"
   },
   {
    "duration": 15,
    "start_time": "2025-02-23T19:22:56.934Z"
   },
   {
    "duration": 11,
    "start_time": "2025-02-23T19:22:56.951Z"
   },
   {
    "duration": 11,
    "start_time": "2025-02-23T19:22:56.963Z"
   },
   {
    "duration": 9,
    "start_time": "2025-02-23T19:22:57.008Z"
   },
   {
    "duration": 14,
    "start_time": "2025-02-23T19:22:57.019Z"
   },
   {
    "duration": 5,
    "start_time": "2025-02-23T19:22:57.034Z"
   },
   {
    "duration": 13,
    "start_time": "2025-02-23T19:22:57.041Z"
   },
   {
    "duration": 246,
    "start_time": "2025-02-23T19:22:57.056Z"
   },
   {
    "duration": 199,
    "start_time": "2025-02-23T19:22:57.303Z"
   },
   {
    "duration": 6,
    "start_time": "2025-02-23T19:22:57.508Z"
   },
   {
    "duration": 162,
    "start_time": "2025-02-23T19:22:57.517Z"
   },
   {
    "duration": 205,
    "start_time": "2025-02-23T19:22:57.681Z"
   },
   {
    "duration": 199,
    "start_time": "2025-02-23T19:22:57.888Z"
   },
   {
    "duration": 209,
    "start_time": "2025-02-23T19:22:58.088Z"
   },
   {
    "duration": 193,
    "start_time": "2025-02-23T19:22:58.298Z"
   },
   {
    "duration": 116,
    "start_time": "2025-02-23T19:22:58.493Z"
   },
   {
    "duration": 2,
    "start_time": "2025-02-23T19:22:58.611Z"
   },
   {
    "duration": 2,
    "start_time": "2025-02-23T19:22:58.617Z"
   },
   {
    "duration": 95,
    "start_time": "2025-02-23T19:26:09.018Z"
   },
   {
    "duration": 180,
    "start_time": "2025-02-23T19:26:21.850Z"
   },
   {
    "duration": 382,
    "start_time": "2025-02-23T19:26:36.306Z"
   },
   {
    "duration": 799,
    "start_time": "2025-02-23T19:27:32.077Z"
   },
   {
    "duration": 148,
    "start_time": "2025-02-23T19:27:32.878Z"
   },
   {
    "duration": 50,
    "start_time": "2025-02-23T19:27:33.027Z"
   },
   {
    "duration": 10,
    "start_time": "2025-02-23T19:27:33.079Z"
   },
   {
    "duration": 48,
    "start_time": "2025-02-23T19:27:33.090Z"
   },
   {
    "duration": 18,
    "start_time": "2025-02-23T19:27:33.140Z"
   },
   {
    "duration": 9,
    "start_time": "2025-02-23T19:27:33.160Z"
   },
   {
    "duration": 6,
    "start_time": "2025-02-23T19:27:33.170Z"
   },
   {
    "duration": 3,
    "start_time": "2025-02-23T19:27:33.177Z"
   },
   {
    "duration": 2,
    "start_time": "2025-02-23T19:27:33.210Z"
   },
   {
    "duration": 13,
    "start_time": "2025-02-23T19:27:33.214Z"
   },
   {
    "duration": 6,
    "start_time": "2025-02-23T19:27:33.229Z"
   },
   {
    "duration": 3,
    "start_time": "2025-02-23T19:27:33.236Z"
   },
   {
    "duration": 3,
    "start_time": "2025-02-23T19:27:33.241Z"
   },
   {
    "duration": 11,
    "start_time": "2025-02-23T19:27:33.245Z"
   },
   {
    "duration": 5,
    "start_time": "2025-02-23T19:27:33.257Z"
   },
   {
    "duration": 4,
    "start_time": "2025-02-23T19:27:33.263Z"
   },
   {
    "duration": 42,
    "start_time": "2025-02-23T19:27:33.268Z"
   },
   {
    "duration": 11,
    "start_time": "2025-02-23T19:27:33.311Z"
   },
   {
    "duration": 4,
    "start_time": "2025-02-23T19:27:33.324Z"
   },
   {
    "duration": 2,
    "start_time": "2025-02-23T19:27:33.330Z"
   },
   {
    "duration": 2,
    "start_time": "2025-02-23T19:27:33.334Z"
   },
   {
    "duration": 6,
    "start_time": "2025-02-23T19:27:33.338Z"
   },
   {
    "duration": 15,
    "start_time": "2025-02-23T19:27:33.345Z"
   },
   {
    "duration": 49,
    "start_time": "2025-02-23T19:27:33.362Z"
   },
   {
    "duration": 10,
    "start_time": "2025-02-23T19:27:33.412Z"
   },
   {
    "duration": 8,
    "start_time": "2025-02-23T19:27:33.424Z"
   },
   {
    "duration": 14,
    "start_time": "2025-02-23T19:27:33.437Z"
   },
   {
    "duration": 5,
    "start_time": "2025-02-23T19:27:33.453Z"
   },
   {
    "duration": 14,
    "start_time": "2025-02-23T19:27:33.459Z"
   },
   {
    "duration": 236,
    "start_time": "2025-02-23T19:27:33.474Z"
   },
   {
    "duration": 199,
    "start_time": "2025-02-23T19:27:33.712Z"
   },
   {
    "duration": 6,
    "start_time": "2025-02-23T19:27:33.913Z"
   },
   {
    "duration": 170,
    "start_time": "2025-02-23T19:27:33.920Z"
   },
   {
    "duration": 208,
    "start_time": "2025-02-23T19:27:34.092Z"
   },
   {
    "duration": 197,
    "start_time": "2025-02-23T19:27:34.302Z"
   },
   {
    "duration": 189,
    "start_time": "2025-02-23T19:27:34.501Z"
   },
   {
    "duration": 191,
    "start_time": "2025-02-23T19:27:34.691Z"
   },
   {
    "duration": 113,
    "start_time": "2025-02-23T19:27:34.883Z"
   },
   {
    "duration": 101,
    "start_time": "2025-02-23T19:27:34.998Z"
   },
   {
    "duration": 185,
    "start_time": "2025-02-23T19:27:35.101Z"
   },
   {
    "duration": 388,
    "start_time": "2025-02-23T19:27:35.287Z"
   },
   {
    "duration": 0,
    "start_time": "2025-02-23T19:27:35.676Z"
   },
   {
    "duration": 0,
    "start_time": "2025-02-23T19:27:35.677Z"
   },
   {
    "duration": 115,
    "start_time": "2025-02-23T19:27:39.437Z"
   },
   {
    "duration": 105,
    "start_time": "2025-02-23T19:28:04.293Z"
   },
   {
    "duration": 795,
    "start_time": "2025-02-23T19:44:41.490Z"
   },
   {
    "duration": 156,
    "start_time": "2025-02-23T19:44:42.287Z"
   },
   {
    "duration": 49,
    "start_time": "2025-02-23T19:44:42.445Z"
   },
   {
    "duration": 14,
    "start_time": "2025-02-23T19:44:42.497Z"
   },
   {
    "duration": 35,
    "start_time": "2025-02-23T19:44:42.514Z"
   },
   {
    "duration": 19,
    "start_time": "2025-02-23T19:44:42.551Z"
   },
   {
    "duration": 9,
    "start_time": "2025-02-23T19:44:42.571Z"
   },
   {
    "duration": 27,
    "start_time": "2025-02-23T19:44:42.582Z"
   },
   {
    "duration": 2,
    "start_time": "2025-02-23T19:44:42.610Z"
   },
   {
    "duration": 2,
    "start_time": "2025-02-23T19:44:42.616Z"
   },
   {
    "duration": 12,
    "start_time": "2025-02-23T19:44:42.620Z"
   },
   {
    "duration": 5,
    "start_time": "2025-02-23T19:44:42.633Z"
   },
   {
    "duration": 3,
    "start_time": "2025-02-23T19:44:42.639Z"
   },
   {
    "duration": 3,
    "start_time": "2025-02-23T19:44:42.643Z"
   },
   {
    "duration": 10,
    "start_time": "2025-02-23T19:44:42.648Z"
   },
   {
    "duration": 4,
    "start_time": "2025-02-23T19:44:42.659Z"
   },
   {
    "duration": 2,
    "start_time": "2025-02-23T19:44:42.665Z"
   },
   {
    "duration": 2,
    "start_time": "2025-02-23T19:44:42.709Z"
   },
   {
    "duration": 11,
    "start_time": "2025-02-23T19:44:42.713Z"
   },
   {
    "duration": 4,
    "start_time": "2025-02-23T19:44:42.726Z"
   },
   {
    "duration": 3,
    "start_time": "2025-02-23T19:44:42.732Z"
   },
   {
    "duration": 2,
    "start_time": "2025-02-23T19:44:42.736Z"
   },
   {
    "duration": 5,
    "start_time": "2025-02-23T19:44:42.740Z"
   },
   {
    "duration": 15,
    "start_time": "2025-02-23T19:44:42.746Z"
   },
   {
    "duration": 48,
    "start_time": "2025-02-23T19:44:42.762Z"
   },
   {
    "duration": 9,
    "start_time": "2025-02-23T19:44:42.812Z"
   },
   {
    "duration": 9,
    "start_time": "2025-02-23T19:44:42.823Z"
   },
   {
    "duration": 15,
    "start_time": "2025-02-23T19:44:42.836Z"
   },
   {
    "duration": 5,
    "start_time": "2025-02-23T19:44:42.853Z"
   },
   {
    "duration": 12,
    "start_time": "2025-02-23T19:44:42.859Z"
   },
   {
    "duration": 243,
    "start_time": "2025-02-23T19:44:42.873Z"
   },
   {
    "duration": 201,
    "start_time": "2025-02-23T19:44:43.118Z"
   },
   {
    "duration": 6,
    "start_time": "2025-02-23T19:44:43.321Z"
   },
   {
    "duration": 168,
    "start_time": "2025-02-23T19:44:43.328Z"
   },
   {
    "duration": 201,
    "start_time": "2025-02-23T19:44:43.498Z"
   },
   {
    "duration": 199,
    "start_time": "2025-02-23T19:44:43.702Z"
   },
   {
    "duration": 196,
    "start_time": "2025-02-23T19:44:43.903Z"
   },
   {
    "duration": 210,
    "start_time": "2025-02-23T19:44:44.101Z"
   },
   {
    "duration": 115,
    "start_time": "2025-02-23T19:44:44.314Z"
   },
   {
    "duration": 100,
    "start_time": "2025-02-23T19:44:44.431Z"
   },
   {
    "duration": 187,
    "start_time": "2025-02-23T19:44:44.532Z"
   },
   {
    "duration": 122,
    "start_time": "2025-02-23T19:44:44.721Z"
   },
   {
    "duration": 2,
    "start_time": "2025-02-23T19:44:44.845Z"
   },
   {
    "duration": 2,
    "start_time": "2025-02-23T19:44:44.849Z"
   },
   {
    "duration": 108,
    "start_time": "2025-02-23T19:45:04.072Z"
   },
   {
    "duration": 792,
    "start_time": "2025-02-23T19:45:11.093Z"
   },
   {
    "duration": 154,
    "start_time": "2025-02-23T19:45:11.886Z"
   },
   {
    "duration": 51,
    "start_time": "2025-02-23T19:45:12.041Z"
   },
   {
    "duration": 18,
    "start_time": "2025-02-23T19:45:12.093Z"
   },
   {
    "duration": 35,
    "start_time": "2025-02-23T19:45:12.114Z"
   },
   {
    "duration": 17,
    "start_time": "2025-02-23T19:45:12.151Z"
   },
   {
    "duration": 9,
    "start_time": "2025-02-23T19:45:12.170Z"
   },
   {
    "duration": 5,
    "start_time": "2025-02-23T19:45:12.182Z"
   },
   {
    "duration": 2,
    "start_time": "2025-02-23T19:45:12.210Z"
   },
   {
    "duration": 2,
    "start_time": "2025-02-23T19:45:12.214Z"
   },
   {
    "duration": 11,
    "start_time": "2025-02-23T19:45:12.218Z"
   },
   {
    "duration": 4,
    "start_time": "2025-02-23T19:45:12.231Z"
   },
   {
    "duration": 2,
    "start_time": "2025-02-23T19:45:12.237Z"
   },
   {
    "duration": 2,
    "start_time": "2025-02-23T19:45:12.244Z"
   },
   {
    "duration": 10,
    "start_time": "2025-02-23T19:45:12.247Z"
   },
   {
    "duration": 4,
    "start_time": "2025-02-23T19:45:12.259Z"
   },
   {
    "duration": 2,
    "start_time": "2025-02-23T19:45:12.309Z"
   },
   {
    "duration": 3,
    "start_time": "2025-02-23T19:45:12.313Z"
   },
   {
    "duration": 10,
    "start_time": "2025-02-23T19:45:12.318Z"
   },
   {
    "duration": 4,
    "start_time": "2025-02-23T19:45:12.330Z"
   },
   {
    "duration": 3,
    "start_time": "2025-02-23T19:45:12.336Z"
   },
   {
    "duration": 3,
    "start_time": "2025-02-23T19:45:12.340Z"
   },
   {
    "duration": 5,
    "start_time": "2025-02-23T19:45:12.344Z"
   },
   {
    "duration": 15,
    "start_time": "2025-02-23T19:45:12.351Z"
   },
   {
    "duration": 51,
    "start_time": "2025-02-23T19:45:12.367Z"
   },
   {
    "duration": 9,
    "start_time": "2025-02-23T19:45:12.419Z"
   },
   {
    "duration": 9,
    "start_time": "2025-02-23T19:45:12.429Z"
   },
   {
    "duration": 13,
    "start_time": "2025-02-23T19:45:12.440Z"
   },
   {
    "duration": 4,
    "start_time": "2025-02-23T19:45:12.455Z"
   },
   {
    "duration": 12,
    "start_time": "2025-02-23T19:45:12.461Z"
   },
   {
    "duration": 235,
    "start_time": "2025-02-23T19:45:12.474Z"
   },
   {
    "duration": 199,
    "start_time": "2025-02-23T19:45:12.710Z"
   },
   {
    "duration": 5,
    "start_time": "2025-02-23T19:45:12.911Z"
   },
   {
    "duration": 169,
    "start_time": "2025-02-23T19:45:12.917Z"
   },
   {
    "duration": 194,
    "start_time": "2025-02-23T19:45:13.088Z"
   },
   {
    "duration": 201,
    "start_time": "2025-02-23T19:45:13.284Z"
   },
   {
    "duration": 191,
    "start_time": "2025-02-23T19:45:13.486Z"
   },
   {
    "duration": 195,
    "start_time": "2025-02-23T19:45:13.679Z"
   },
   {
    "duration": 116,
    "start_time": "2025-02-23T19:45:13.876Z"
   },
   {
    "duration": 105,
    "start_time": "2025-02-23T19:45:13.994Z"
   },
   {
    "duration": 184,
    "start_time": "2025-02-23T19:45:14.108Z"
   },
   {
    "duration": 109,
    "start_time": "2025-02-23T19:45:14.294Z"
   },
   {
    "duration": 6,
    "start_time": "2025-02-23T19:45:14.404Z"
   },
   {
    "duration": 2,
    "start_time": "2025-02-23T19:45:14.412Z"
   },
   {
    "duration": 874,
    "start_time": "2025-02-23T19:51:00.514Z"
   },
   {
    "duration": 156,
    "start_time": "2025-02-23T19:51:01.390Z"
   },
   {
    "duration": 50,
    "start_time": "2025-02-23T19:51:01.547Z"
   },
   {
    "duration": 10,
    "start_time": "2025-02-23T19:51:01.608Z"
   },
   {
    "duration": 35,
    "start_time": "2025-02-23T19:51:01.620Z"
   },
   {
    "duration": 18,
    "start_time": "2025-02-23T19:51:01.656Z"
   },
   {
    "duration": 8,
    "start_time": "2025-02-23T19:51:01.676Z"
   },
   {
    "duration": 28,
    "start_time": "2025-02-23T19:51:01.685Z"
   },
   {
    "duration": 3,
    "start_time": "2025-02-23T19:51:01.714Z"
   },
   {
    "duration": 2,
    "start_time": "2025-02-23T19:51:01.721Z"
   },
   {
    "duration": 12,
    "start_time": "2025-02-23T19:51:01.724Z"
   },
   {
    "duration": 5,
    "start_time": "2025-02-23T19:51:01.737Z"
   },
   {
    "duration": 3,
    "start_time": "2025-02-23T19:51:01.743Z"
   },
   {
    "duration": 2,
    "start_time": "2025-02-23T19:51:01.749Z"
   },
   {
    "duration": 10,
    "start_time": "2025-02-23T19:51:01.752Z"
   },
   {
    "duration": 45,
    "start_time": "2025-02-23T19:51:01.763Z"
   },
   {
    "duration": 2,
    "start_time": "2025-02-23T19:51:01.810Z"
   },
   {
    "duration": 2,
    "start_time": "2025-02-23T19:51:01.814Z"
   },
   {
    "duration": 11,
    "start_time": "2025-02-23T19:51:01.818Z"
   },
   {
    "duration": 5,
    "start_time": "2025-02-23T19:51:01.830Z"
   },
   {
    "duration": 2,
    "start_time": "2025-02-23T19:51:01.837Z"
   },
   {
    "duration": 2,
    "start_time": "2025-02-23T19:51:01.841Z"
   },
   {
    "duration": 5,
    "start_time": "2025-02-23T19:51:01.845Z"
   },
   {
    "duration": 16,
    "start_time": "2025-02-23T19:51:01.851Z"
   },
   {
    "duration": 44,
    "start_time": "2025-02-23T19:51:01.869Z"
   },
   {
    "duration": 11,
    "start_time": "2025-02-23T19:51:01.915Z"
   },
   {
    "duration": 11,
    "start_time": "2025-02-23T19:51:01.928Z"
   },
   {
    "duration": 15,
    "start_time": "2025-02-23T19:51:01.944Z"
   },
   {
    "duration": 5,
    "start_time": "2025-02-23T19:51:01.961Z"
   },
   {
    "duration": 46,
    "start_time": "2025-02-23T19:51:01.968Z"
   },
   {
    "duration": 208,
    "start_time": "2025-02-23T19:51:02.015Z"
   },
   {
    "duration": 191,
    "start_time": "2025-02-23T19:51:02.225Z"
   },
   {
    "duration": 5,
    "start_time": "2025-02-23T19:51:02.418Z"
   },
   {
    "duration": 174,
    "start_time": "2025-02-23T19:51:02.425Z"
   },
   {
    "duration": 199,
    "start_time": "2025-02-23T19:51:02.600Z"
   },
   {
    "duration": 209,
    "start_time": "2025-02-23T19:51:02.801Z"
   },
   {
    "duration": 197,
    "start_time": "2025-02-23T19:51:03.011Z"
   },
   {
    "duration": 198,
    "start_time": "2025-02-23T19:51:03.211Z"
   },
   {
    "duration": 112,
    "start_time": "2025-02-23T19:51:03.411Z"
   },
   {
    "duration": 104,
    "start_time": "2025-02-23T19:51:03.525Z"
   },
   {
    "duration": 186,
    "start_time": "2025-02-23T19:51:03.631Z"
   },
   {
    "duration": 111,
    "start_time": "2025-02-23T19:51:03.819Z"
   },
   {
    "duration": 2,
    "start_time": "2025-02-23T19:51:03.931Z"
   },
   {
    "duration": 2,
    "start_time": "2025-02-23T19:51:03.935Z"
   },
   {
    "duration": 5,
    "start_time": "2025-02-23T19:52:36.472Z"
   },
   {
    "duration": 671,
    "start_time": "2025-02-23T19:53:32.703Z"
   },
   {
    "duration": 44,
    "start_time": "2025-02-23T19:53:47.990Z"
   },
   {
    "duration": 51,
    "start_time": "2025-02-23T19:53:54.896Z"
   },
   {
    "duration": 832,
    "start_time": "2025-02-23T19:54:06.251Z"
   },
   {
    "duration": 167,
    "start_time": "2025-02-23T19:54:07.086Z"
   },
   {
    "duration": 54,
    "start_time": "2025-02-23T19:54:07.255Z"
   },
   {
    "duration": 12,
    "start_time": "2025-02-23T19:54:07.311Z"
   },
   {
    "duration": 36,
    "start_time": "2025-02-23T19:54:07.326Z"
   },
   {
    "duration": 18,
    "start_time": "2025-02-23T19:54:07.364Z"
   },
   {
    "duration": 31,
    "start_time": "2025-02-23T19:54:07.383Z"
   },
   {
    "duration": 6,
    "start_time": "2025-02-23T19:54:07.416Z"
   },
   {
    "duration": 2,
    "start_time": "2025-02-23T19:54:07.425Z"
   },
   {
    "duration": 2,
    "start_time": "2025-02-23T19:54:07.429Z"
   },
   {
    "duration": 13,
    "start_time": "2025-02-23T19:54:07.432Z"
   },
   {
    "duration": 4,
    "start_time": "2025-02-23T19:54:07.446Z"
   },
   {
    "duration": 3,
    "start_time": "2025-02-23T19:54:07.452Z"
   },
   {
    "duration": 2,
    "start_time": "2025-02-23T19:54:07.459Z"
   },
   {
    "duration": 53,
    "start_time": "2025-02-23T19:54:07.462Z"
   },
   {
    "duration": 4,
    "start_time": "2025-02-23T19:54:07.517Z"
   },
   {
    "duration": 3,
    "start_time": "2025-02-23T19:54:07.522Z"
   },
   {
    "duration": 3,
    "start_time": "2025-02-23T19:54:07.526Z"
   },
   {
    "duration": 11,
    "start_time": "2025-02-23T19:54:07.530Z"
   },
   {
    "duration": 4,
    "start_time": "2025-02-23T19:54:07.543Z"
   },
   {
    "duration": 2,
    "start_time": "2025-02-23T19:54:07.549Z"
   },
   {
    "duration": 3,
    "start_time": "2025-02-23T19:54:07.552Z"
   },
   {
    "duration": 5,
    "start_time": "2025-02-23T19:54:07.557Z"
   },
   {
    "duration": 54,
    "start_time": "2025-02-23T19:54:07.564Z"
   },
   {
    "duration": 12,
    "start_time": "2025-02-23T19:54:07.620Z"
   },
   {
    "duration": 9,
    "start_time": "2025-02-23T19:54:07.633Z"
   },
   {
    "duration": 8,
    "start_time": "2025-02-23T19:54:07.644Z"
   },
   {
    "duration": 15,
    "start_time": "2025-02-23T19:54:07.654Z"
   },
   {
    "duration": 6,
    "start_time": "2025-02-23T19:54:07.670Z"
   },
   {
    "duration": 41,
    "start_time": "2025-02-23T19:54:07.678Z"
   },
   {
    "duration": 220,
    "start_time": "2025-02-23T19:54:07.721Z"
   },
   {
    "duration": 189,
    "start_time": "2025-02-23T19:54:07.943Z"
   },
   {
    "duration": 6,
    "start_time": "2025-02-23T19:54:08.133Z"
   },
   {
    "duration": 177,
    "start_time": "2025-02-23T19:54:08.141Z"
   },
   {
    "duration": 193,
    "start_time": "2025-02-23T19:54:08.320Z"
   },
   {
    "duration": 197,
    "start_time": "2025-02-23T19:54:08.514Z"
   },
   {
    "duration": 200,
    "start_time": "2025-02-23T19:54:08.713Z"
   },
   {
    "duration": 201,
    "start_time": "2025-02-23T19:54:08.915Z"
   },
   {
    "duration": 113,
    "start_time": "2025-02-23T19:54:09.117Z"
   },
   {
    "duration": 100,
    "start_time": "2025-02-23T19:54:09.232Z"
   },
   {
    "duration": 184,
    "start_time": "2025-02-23T19:54:09.337Z"
   },
   {
    "duration": 115,
    "start_time": "2025-02-23T19:54:09.523Z"
   },
   {
    "duration": 6,
    "start_time": "2025-02-23T19:54:09.640Z"
   },
   {
    "duration": 689,
    "start_time": "2025-02-23T19:54:09.648Z"
   },
   {
    "duration": 167,
    "start_time": "2025-02-23T21:29:48.530Z"
   },
   {
    "duration": 15,
    "start_time": "2025-02-23T21:49:09.298Z"
   },
   {
    "duration": 8,
    "start_time": "2025-02-23T21:49:41.691Z"
   },
   {
    "duration": 2734,
    "start_time": "2025-02-23T21:49:59.345Z"
   },
   {
    "duration": 232,
    "start_time": "2025-02-23T21:50:02.082Z"
   },
   {
    "duration": 53,
    "start_time": "2025-02-23T21:50:02.316Z"
   },
   {
    "duration": 11,
    "start_time": "2025-02-23T21:50:02.371Z"
   },
   {
    "duration": 54,
    "start_time": "2025-02-23T21:50:02.386Z"
   },
   {
    "duration": 19,
    "start_time": "2025-02-23T21:50:02.442Z"
   },
   {
    "duration": 10,
    "start_time": "2025-02-23T21:50:02.463Z"
   },
   {
    "duration": 7,
    "start_time": "2025-02-23T21:50:02.474Z"
   },
   {
    "duration": 3,
    "start_time": "2025-02-23T21:50:02.482Z"
   },
   {
    "duration": 3,
    "start_time": "2025-02-23T21:50:02.487Z"
   },
   {
    "duration": 42,
    "start_time": "2025-02-23T21:50:02.491Z"
   },
   {
    "duration": 5,
    "start_time": "2025-02-23T21:50:02.535Z"
   },
   {
    "duration": 4,
    "start_time": "2025-02-23T21:50:02.541Z"
   },
   {
    "duration": 2,
    "start_time": "2025-02-23T21:50:02.548Z"
   },
   {
    "duration": 12,
    "start_time": "2025-02-23T21:50:02.552Z"
   },
   {
    "duration": 5,
    "start_time": "2025-02-23T21:50:02.566Z"
   },
   {
    "duration": 3,
    "start_time": "2025-02-23T21:50:02.573Z"
   },
   {
    "duration": 4,
    "start_time": "2025-02-23T21:50:02.577Z"
   },
   {
    "duration": 49,
    "start_time": "2025-02-23T21:50:02.583Z"
   },
   {
    "duration": 5,
    "start_time": "2025-02-23T21:50:02.635Z"
   },
   {
    "duration": 3,
    "start_time": "2025-02-23T21:50:02.642Z"
   },
   {
    "duration": 2,
    "start_time": "2025-02-23T21:50:02.647Z"
   },
   {
    "duration": 6,
    "start_time": "2025-02-23T21:50:02.651Z"
   },
   {
    "duration": 22,
    "start_time": "2025-02-23T21:50:02.658Z"
   },
   {
    "duration": 51,
    "start_time": "2025-02-23T21:50:02.682Z"
   },
   {
    "duration": 11,
    "start_time": "2025-02-23T21:50:02.734Z"
   },
   {
    "duration": 10,
    "start_time": "2025-02-23T21:50:02.746Z"
   },
   {
    "duration": 17,
    "start_time": "2025-02-23T21:50:02.757Z"
   },
   {
    "duration": 6,
    "start_time": "2025-02-23T21:50:02.776Z"
   },
   {
    "duration": 12,
    "start_time": "2025-02-23T21:50:02.784Z"
   },
   {
    "duration": 243,
    "start_time": "2025-02-23T21:50:02.798Z"
   },
   {
    "duration": 199,
    "start_time": "2025-02-23T21:50:03.043Z"
   },
   {
    "duration": 6,
    "start_time": "2025-02-23T21:50:03.244Z"
   },
   {
    "duration": 130,
    "start_time": "2025-02-23T21:50:03.252Z"
   },
   {
    "duration": 205,
    "start_time": "2025-02-23T21:50:03.383Z"
   },
   {
    "duration": 224,
    "start_time": "2025-02-23T21:50:03.590Z"
   },
   {
    "duration": 203,
    "start_time": "2025-02-23T21:50:03.816Z"
   },
   {
    "duration": 200,
    "start_time": "2025-02-23T21:50:04.021Z"
   },
   {
    "duration": 198,
    "start_time": "2025-02-23T21:50:04.223Z"
   },
   {
    "duration": 110,
    "start_time": "2025-02-23T21:50:04.423Z"
   },
   {
    "duration": 205,
    "start_time": "2025-02-23T21:50:04.537Z"
   },
   {
    "duration": 132,
    "start_time": "2025-02-23T21:50:04.744Z"
   },
   {
    "duration": 5,
    "start_time": "2025-02-23T21:50:04.878Z"
   },
   {
    "duration": 0,
    "start_time": "2025-02-23T21:50:04.884Z"
   },
   {
    "duration": 6,
    "start_time": "2025-02-23T21:51:03.207Z"
   },
   {
    "duration": 6,
    "start_time": "2025-02-23T21:51:15.030Z"
   },
   {
    "duration": 819,
    "start_time": "2025-02-23T21:51:22.997Z"
   },
   {
    "duration": 166,
    "start_time": "2025-02-23T21:51:23.819Z"
   },
   {
    "duration": 52,
    "start_time": "2025-02-23T21:51:23.986Z"
   },
   {
    "duration": 9,
    "start_time": "2025-02-23T21:51:24.040Z"
   },
   {
    "duration": 38,
    "start_time": "2025-02-23T21:51:24.051Z"
   },
   {
    "duration": 18,
    "start_time": "2025-02-23T21:51:24.091Z"
   },
   {
    "duration": 35,
    "start_time": "2025-02-23T21:51:24.111Z"
   },
   {
    "duration": 6,
    "start_time": "2025-02-23T21:51:24.148Z"
   },
   {
    "duration": 3,
    "start_time": "2025-02-23T21:51:24.156Z"
   },
   {
    "duration": 2,
    "start_time": "2025-02-23T21:51:24.163Z"
   },
   {
    "duration": 14,
    "start_time": "2025-02-23T21:51:24.167Z"
   },
   {
    "duration": 5,
    "start_time": "2025-02-23T21:51:24.182Z"
   },
   {
    "duration": 2,
    "start_time": "2025-02-23T21:51:24.189Z"
   },
   {
    "duration": 4,
    "start_time": "2025-02-23T21:51:24.192Z"
   },
   {
    "duration": 45,
    "start_time": "2025-02-23T21:51:24.197Z"
   },
   {
    "duration": 5,
    "start_time": "2025-02-23T21:51:24.244Z"
   },
   {
    "duration": 2,
    "start_time": "2025-02-23T21:51:24.251Z"
   },
   {
    "duration": 4,
    "start_time": "2025-02-23T21:51:24.254Z"
   },
   {
    "duration": 13,
    "start_time": "2025-02-23T21:51:24.259Z"
   },
   {
    "duration": 4,
    "start_time": "2025-02-23T21:51:24.274Z"
   },
   {
    "duration": 3,
    "start_time": "2025-02-23T21:51:24.280Z"
   },
   {
    "duration": 3,
    "start_time": "2025-02-23T21:51:24.284Z"
   },
   {
    "duration": 47,
    "start_time": "2025-02-23T21:51:24.289Z"
   },
   {
    "duration": 16,
    "start_time": "2025-02-23T21:51:24.338Z"
   },
   {
    "duration": 13,
    "start_time": "2025-02-23T21:51:24.358Z"
   },
   {
    "duration": 11,
    "start_time": "2025-02-23T21:51:24.373Z"
   },
   {
    "duration": 10,
    "start_time": "2025-02-23T21:51:24.386Z"
   },
   {
    "duration": 43,
    "start_time": "2025-02-23T21:51:24.399Z"
   },
   {
    "duration": 6,
    "start_time": "2025-02-23T21:51:24.443Z"
   },
   {
    "duration": 14,
    "start_time": "2025-02-23T21:51:24.450Z"
   },
   {
    "duration": 233,
    "start_time": "2025-02-23T21:51:24.466Z"
   },
   {
    "duration": 201,
    "start_time": "2025-02-23T21:51:24.700Z"
   },
   {
    "duration": 7,
    "start_time": "2025-02-23T21:51:24.903Z"
   },
   {
    "duration": 189,
    "start_time": "2025-02-23T21:51:24.912Z"
   },
   {
    "duration": 200,
    "start_time": "2025-02-23T21:51:25.103Z"
   },
   {
    "duration": 204,
    "start_time": "2025-02-23T21:51:25.305Z"
   },
   {
    "duration": 198,
    "start_time": "2025-02-23T21:51:25.511Z"
   },
   {
    "duration": 207,
    "start_time": "2025-02-23T21:51:25.711Z"
   },
   {
    "duration": 121,
    "start_time": "2025-02-23T21:51:25.920Z"
   },
   {
    "duration": 105,
    "start_time": "2025-02-23T21:51:26.043Z"
   },
   {
    "duration": 187,
    "start_time": "2025-02-23T21:51:26.150Z"
   },
   {
    "duration": 113,
    "start_time": "2025-02-23T21:51:26.338Z"
   },
   {
    "duration": 6,
    "start_time": "2025-02-23T21:51:26.453Z"
   },
   {
    "duration": 10,
    "start_time": "2025-02-23T23:24:40.630Z"
   },
   {
    "duration": 7,
    "start_time": "2025-02-24T00:14:52.076Z"
   },
   {
    "duration": 162,
    "start_time": "2025-02-24T00:16:36.989Z"
   },
   {
    "duration": 2616,
    "start_time": "2025-02-24T00:16:54.239Z"
   },
   {
    "duration": 212,
    "start_time": "2025-02-24T00:16:56.857Z"
   },
   {
    "duration": 51,
    "start_time": "2025-02-24T00:16:57.071Z"
   },
   {
    "duration": 10,
    "start_time": "2025-02-24T00:16:57.124Z"
   },
   {
    "duration": 38,
    "start_time": "2025-02-24T00:16:57.138Z"
   },
   {
    "duration": 48,
    "start_time": "2025-02-24T00:16:57.177Z"
   },
   {
    "duration": 10,
    "start_time": "2025-02-24T00:16:57.227Z"
   },
   {
    "duration": 7,
    "start_time": "2025-02-24T00:16:57.239Z"
   },
   {
    "duration": 3,
    "start_time": "2025-02-24T00:16:57.247Z"
   },
   {
    "duration": 3,
    "start_time": "2025-02-24T00:16:57.251Z"
   },
   {
    "duration": 12,
    "start_time": "2025-02-24T00:16:57.256Z"
   },
   {
    "duration": 5,
    "start_time": "2025-02-24T00:16:57.271Z"
   },
   {
    "duration": 33,
    "start_time": "2025-02-24T00:16:57.278Z"
   },
   {
    "duration": 2,
    "start_time": "2025-02-24T00:16:57.315Z"
   },
   {
    "duration": 11,
    "start_time": "2025-02-24T00:16:57.319Z"
   },
   {
    "duration": 5,
    "start_time": "2025-02-24T00:16:57.332Z"
   },
   {
    "duration": 6,
    "start_time": "2025-02-24T00:16:57.338Z"
   },
   {
    "duration": 2,
    "start_time": "2025-02-24T00:16:57.345Z"
   },
   {
    "duration": 13,
    "start_time": "2025-02-24T00:16:57.349Z"
   },
   {
    "duration": 6,
    "start_time": "2025-02-24T00:16:57.364Z"
   },
   {
    "duration": 39,
    "start_time": "2025-02-24T00:16:57.372Z"
   },
   {
    "duration": 4,
    "start_time": "2025-02-24T00:16:57.413Z"
   },
   {
    "duration": 6,
    "start_time": "2025-02-24T00:16:57.419Z"
   },
   {
    "duration": 17,
    "start_time": "2025-02-24T00:16:57.427Z"
   },
   {
    "duration": 13,
    "start_time": "2025-02-24T00:16:57.445Z"
   },
   {
    "duration": 12,
    "start_time": "2025-02-24T00:16:57.459Z"
   },
   {
    "duration": 38,
    "start_time": "2025-02-24T00:16:57.473Z"
   },
   {
    "duration": 19,
    "start_time": "2025-02-24T00:16:57.514Z"
   },
   {
    "duration": 6,
    "start_time": "2025-02-24T00:16:57.535Z"
   },
   {
    "duration": 16,
    "start_time": "2025-02-24T00:16:57.544Z"
   },
   {
    "duration": 240,
    "start_time": "2025-02-24T00:16:57.562Z"
   },
   {
    "duration": 200,
    "start_time": "2025-02-24T00:16:57.804Z"
   },
   {
    "duration": 7,
    "start_time": "2025-02-24T00:16:58.008Z"
   },
   {
    "duration": 124,
    "start_time": "2025-02-24T00:16:58.017Z"
   },
   {
    "duration": 202,
    "start_time": "2025-02-24T00:16:58.143Z"
   },
   {
    "duration": 233,
    "start_time": "2025-02-24T00:16:58.348Z"
   },
   {
    "duration": 277,
    "start_time": "2025-02-24T00:16:58.583Z"
   },
   {
    "duration": 198,
    "start_time": "2025-02-24T00:16:58.862Z"
   },
   {
    "duration": 119,
    "start_time": "2025-02-24T00:16:59.062Z"
   },
   {
    "duration": 108,
    "start_time": "2025-02-24T00:16:59.183Z"
   },
   {
    "duration": 188,
    "start_time": "2025-02-24T00:16:59.296Z"
   },
   {
    "duration": 115,
    "start_time": "2025-02-24T00:16:59.486Z"
   },
   {
    "duration": 259,
    "start_time": "2025-02-24T00:16:59.603Z"
   },
   {
    "duration": 3,
    "start_time": "2025-02-24T00:17:51.034Z"
   },
   {
    "duration": 780,
    "start_time": "2025-02-24T00:17:56.470Z"
   },
   {
    "duration": 183,
    "start_time": "2025-02-24T00:17:57.253Z"
   },
   {
    "duration": 50,
    "start_time": "2025-02-24T00:17:57.437Z"
   },
   {
    "duration": 10,
    "start_time": "2025-02-24T00:17:57.488Z"
   },
   {
    "duration": 37,
    "start_time": "2025-02-24T00:17:57.511Z"
   },
   {
    "duration": 19,
    "start_time": "2025-02-24T00:17:57.550Z"
   },
   {
    "duration": 9,
    "start_time": "2025-02-24T00:17:57.570Z"
   },
   {
    "duration": 30,
    "start_time": "2025-02-24T00:17:57.580Z"
   },
   {
    "duration": 2,
    "start_time": "2025-02-24T00:17:57.612Z"
   },
   {
    "duration": 3,
    "start_time": "2025-02-24T00:17:57.616Z"
   },
   {
    "duration": 13,
    "start_time": "2025-02-24T00:17:57.621Z"
   },
   {
    "duration": 5,
    "start_time": "2025-02-24T00:17:57.635Z"
   },
   {
    "duration": 3,
    "start_time": "2025-02-24T00:17:57.641Z"
   },
   {
    "duration": 2,
    "start_time": "2025-02-24T00:17:57.648Z"
   },
   {
    "duration": 10,
    "start_time": "2025-02-24T00:17:57.652Z"
   },
   {
    "duration": 5,
    "start_time": "2025-02-24T00:17:57.663Z"
   },
   {
    "duration": 41,
    "start_time": "2025-02-24T00:17:57.669Z"
   },
   {
    "duration": 3,
    "start_time": "2025-02-24T00:17:57.712Z"
   },
   {
    "duration": 11,
    "start_time": "2025-02-24T00:17:57.719Z"
   },
   {
    "duration": 6,
    "start_time": "2025-02-24T00:17:57.732Z"
   },
   {
    "duration": 2,
    "start_time": "2025-02-24T00:17:57.740Z"
   },
   {
    "duration": 2,
    "start_time": "2025-02-24T00:17:57.744Z"
   },
   {
    "duration": 6,
    "start_time": "2025-02-24T00:17:57.748Z"
   },
   {
    "duration": 15,
    "start_time": "2025-02-24T00:17:57.755Z"
   },
   {
    "duration": 13,
    "start_time": "2025-02-24T00:17:57.808Z"
   },
   {
    "duration": 10,
    "start_time": "2025-02-24T00:17:57.823Z"
   },
   {
    "duration": 8,
    "start_time": "2025-02-24T00:17:57.835Z"
   },
   {
    "duration": 15,
    "start_time": "2025-02-24T00:17:57.844Z"
   },
   {
    "duration": 5,
    "start_time": "2025-02-24T00:17:57.860Z"
   },
   {
    "duration": 12,
    "start_time": "2025-02-24T00:17:57.868Z"
   },
   {
    "duration": 211,
    "start_time": "2025-02-24T00:17:57.910Z"
   },
   {
    "duration": 191,
    "start_time": "2025-02-24T00:17:58.123Z"
   },
   {
    "duration": 5,
    "start_time": "2025-02-24T00:17:58.316Z"
   },
   {
    "duration": 172,
    "start_time": "2025-02-24T00:17:58.323Z"
   },
   {
    "duration": 200,
    "start_time": "2025-02-24T00:17:58.497Z"
   },
   {
    "duration": 229,
    "start_time": "2025-02-24T00:17:58.699Z"
   },
   {
    "duration": 185,
    "start_time": "2025-02-24T00:17:58.930Z"
   },
   {
    "duration": 194,
    "start_time": "2025-02-24T00:17:59.117Z"
   },
   {
    "duration": 113,
    "start_time": "2025-02-24T00:17:59.312Z"
   },
   {
    "duration": 125,
    "start_time": "2025-02-24T00:17:59.426Z"
   },
   {
    "duration": 187,
    "start_time": "2025-02-24T00:17:59.555Z"
   },
   {
    "duration": 115,
    "start_time": "2025-02-24T00:17:59.745Z"
   },
   {
    "duration": 7,
    "start_time": "2025-02-24T00:17:59.862Z"
   },
   {
    "duration": 724,
    "start_time": "2025-02-24T00:23:32.248Z"
   },
   {
    "duration": 18,
    "start_time": "2025-02-24T00:28:01.697Z"
   },
   {
    "duration": 848,
    "start_time": "2025-02-24T00:28:20.331Z"
   },
   {
    "duration": 158,
    "start_time": "2025-02-24T00:28:21.181Z"
   },
   {
    "duration": 53,
    "start_time": "2025-02-24T00:28:21.341Z"
   },
   {
    "duration": 15,
    "start_time": "2025-02-24T00:28:21.397Z"
   },
   {
    "duration": 35,
    "start_time": "2025-02-24T00:28:21.414Z"
   },
   {
    "duration": 18,
    "start_time": "2025-02-24T00:28:21.451Z"
   },
   {
    "duration": 9,
    "start_time": "2025-02-24T00:28:21.471Z"
   },
   {
    "duration": 31,
    "start_time": "2025-02-24T00:28:21.481Z"
   },
   {
    "duration": 4,
    "start_time": "2025-02-24T00:28:21.514Z"
   },
   {
    "duration": 3,
    "start_time": "2025-02-24T00:28:21.520Z"
   },
   {
    "duration": 12,
    "start_time": "2025-02-24T00:28:21.524Z"
   },
   {
    "duration": 4,
    "start_time": "2025-02-24T00:28:21.537Z"
   },
   {
    "duration": 2,
    "start_time": "2025-02-24T00:28:21.543Z"
   },
   {
    "duration": 3,
    "start_time": "2025-02-24T00:28:21.547Z"
   },
   {
    "duration": 9,
    "start_time": "2025-02-24T00:28:21.551Z"
   },
   {
    "duration": 4,
    "start_time": "2025-02-24T00:28:21.562Z"
   },
   {
    "duration": 2,
    "start_time": "2025-02-24T00:28:21.609Z"
   },
   {
    "duration": 2,
    "start_time": "2025-02-24T00:28:21.613Z"
   },
   {
    "duration": 11,
    "start_time": "2025-02-24T00:28:21.617Z"
   },
   {
    "duration": 4,
    "start_time": "2025-02-24T00:28:21.630Z"
   },
   {
    "duration": 2,
    "start_time": "2025-02-24T00:28:21.636Z"
   },
   {
    "duration": 2,
    "start_time": "2025-02-24T00:28:21.640Z"
   },
   {
    "duration": 6,
    "start_time": "2025-02-24T00:28:21.644Z"
   },
   {
    "duration": 14,
    "start_time": "2025-02-24T00:28:21.652Z"
   },
   {
    "duration": 50,
    "start_time": "2025-02-24T00:28:21.668Z"
   },
   {
    "duration": 10,
    "start_time": "2025-02-24T00:28:21.719Z"
   },
   {
    "duration": 10,
    "start_time": "2025-02-24T00:28:21.731Z"
   },
   {
    "duration": 19,
    "start_time": "2025-02-24T00:28:21.747Z"
   },
   {
    "duration": 5,
    "start_time": "2025-02-24T00:28:21.770Z"
   },
   {
    "duration": 36,
    "start_time": "2025-02-24T00:28:21.777Z"
   },
   {
    "duration": 211,
    "start_time": "2025-02-24T00:28:21.815Z"
   },
   {
    "duration": 196,
    "start_time": "2025-02-24T00:28:22.028Z"
   },
   {
    "duration": 5,
    "start_time": "2025-02-24T00:28:22.226Z"
   },
   {
    "duration": 170,
    "start_time": "2025-02-24T00:28:22.233Z"
   },
   {
    "duration": 194,
    "start_time": "2025-02-24T00:28:22.409Z"
   },
   {
    "duration": 195,
    "start_time": "2025-02-24T00:28:22.609Z"
   },
   {
    "duration": 195,
    "start_time": "2025-02-24T00:28:22.808Z"
   },
   {
    "duration": 192,
    "start_time": "2025-02-24T00:28:23.009Z"
   },
   {
    "duration": 115,
    "start_time": "2025-02-24T00:28:23.203Z"
   },
   {
    "duration": 101,
    "start_time": "2025-02-24T00:28:23.320Z"
   },
   {
    "duration": 188,
    "start_time": "2025-02-24T00:28:23.423Z"
   },
   {
    "duration": 113,
    "start_time": "2025-02-24T00:28:23.613Z"
   },
   {
    "duration": 6,
    "start_time": "2025-02-24T00:28:23.728Z"
   },
   {
    "duration": 15,
    "start_time": "2025-02-24T00:28:23.736Z"
   },
   {
    "duration": 808,
    "start_time": "2025-02-24T00:33:49.977Z"
   },
   {
    "duration": 156,
    "start_time": "2025-02-24T00:33:50.787Z"
   },
   {
    "duration": 50,
    "start_time": "2025-02-24T00:33:50.945Z"
   },
   {
    "duration": 14,
    "start_time": "2025-02-24T00:33:50.998Z"
   },
   {
    "duration": 35,
    "start_time": "2025-02-24T00:33:51.014Z"
   },
   {
    "duration": 18,
    "start_time": "2025-02-24T00:33:51.051Z"
   },
   {
    "duration": 8,
    "start_time": "2025-02-24T00:33:51.071Z"
   },
   {
    "duration": 5,
    "start_time": "2025-02-24T00:33:51.109Z"
   },
   {
    "duration": 2,
    "start_time": "2025-02-24T00:33:51.116Z"
   },
   {
    "duration": 3,
    "start_time": "2025-02-24T00:33:51.122Z"
   },
   {
    "duration": 12,
    "start_time": "2025-02-24T00:33:51.126Z"
   },
   {
    "duration": 4,
    "start_time": "2025-02-24T00:33:51.140Z"
   },
   {
    "duration": 4,
    "start_time": "2025-02-24T00:33:51.145Z"
   },
   {
    "duration": 3,
    "start_time": "2025-02-24T00:33:51.150Z"
   },
   {
    "duration": 10,
    "start_time": "2025-02-24T00:33:51.155Z"
   },
   {
    "duration": 44,
    "start_time": "2025-02-24T00:33:51.167Z"
   },
   {
    "duration": 2,
    "start_time": "2025-02-24T00:33:51.213Z"
   },
   {
    "duration": 3,
    "start_time": "2025-02-24T00:33:51.217Z"
   },
   {
    "duration": 12,
    "start_time": "2025-02-24T00:33:51.221Z"
   },
   {
    "duration": 4,
    "start_time": "2025-02-24T00:33:51.236Z"
   },
   {
    "duration": 3,
    "start_time": "2025-02-24T00:33:51.241Z"
   },
   {
    "duration": 3,
    "start_time": "2025-02-24T00:33:51.245Z"
   },
   {
    "duration": 4,
    "start_time": "2025-02-24T00:33:51.250Z"
   },
   {
    "duration": 16,
    "start_time": "2025-02-24T00:33:51.256Z"
   },
   {
    "duration": 12,
    "start_time": "2025-02-24T00:33:51.308Z"
   },
   {
    "duration": 10,
    "start_time": "2025-02-24T00:33:51.322Z"
   },
   {
    "duration": 8,
    "start_time": "2025-02-24T00:33:51.333Z"
   },
   {
    "duration": 14,
    "start_time": "2025-02-24T00:33:51.345Z"
   },
   {
    "duration": 9,
    "start_time": "2025-02-24T00:33:51.361Z"
   },
   {
    "duration": 37,
    "start_time": "2025-02-24T00:33:51.372Z"
   },
   {
    "duration": 211,
    "start_time": "2025-02-24T00:33:51.412Z"
   },
   {
    "duration": 195,
    "start_time": "2025-02-24T00:33:51.625Z"
   },
   {
    "duration": 5,
    "start_time": "2025-02-24T00:33:51.822Z"
   },
   {
    "duration": 175,
    "start_time": "2025-02-24T00:33:51.829Z"
   },
   {
    "duration": 195,
    "start_time": "2025-02-24T00:33:52.009Z"
   },
   {
    "duration": 199,
    "start_time": "2025-02-24T00:33:52.206Z"
   },
   {
    "duration": 195,
    "start_time": "2025-02-24T00:33:52.407Z"
   },
   {
    "duration": 198,
    "start_time": "2025-02-24T00:33:52.604Z"
   },
   {
    "duration": 118,
    "start_time": "2025-02-24T00:33:52.804Z"
   },
   {
    "duration": 106,
    "start_time": "2025-02-24T00:33:52.924Z"
   },
   {
    "duration": 193,
    "start_time": "2025-02-24T00:33:53.033Z"
   },
   {
    "duration": 116,
    "start_time": "2025-02-24T00:33:53.227Z"
   },
   {
    "duration": 6,
    "start_time": "2025-02-24T00:33:53.345Z"
   },
   {
    "duration": 16,
    "start_time": "2025-02-24T00:33:53.352Z"
   },
   {
    "duration": 874,
    "start_time": "2025-02-24T00:36:04.736Z"
   },
   {
    "duration": 235,
    "start_time": "2025-02-24T00:36:05.612Z"
   },
   {
    "duration": 53,
    "start_time": "2025-02-24T00:36:05.849Z"
   },
   {
    "duration": 10,
    "start_time": "2025-02-24T00:36:05.909Z"
   },
   {
    "duration": 36,
    "start_time": "2025-02-24T00:36:05.920Z"
   },
   {
    "duration": 19,
    "start_time": "2025-02-24T00:36:05.958Z"
   },
   {
    "duration": 31,
    "start_time": "2025-02-24T00:36:05.978Z"
   },
   {
    "duration": 6,
    "start_time": "2025-02-24T00:36:06.010Z"
   },
   {
    "duration": 3,
    "start_time": "2025-02-24T00:36:06.017Z"
   },
   {
    "duration": 3,
    "start_time": "2025-02-24T00:36:06.023Z"
   },
   {
    "duration": 12,
    "start_time": "2025-02-24T00:36:06.028Z"
   },
   {
    "duration": 5,
    "start_time": "2025-02-24T00:36:06.041Z"
   },
   {
    "duration": 4,
    "start_time": "2025-02-24T00:36:06.047Z"
   },
   {
    "duration": 3,
    "start_time": "2025-02-24T00:36:06.052Z"
   },
   {
    "duration": 11,
    "start_time": "2025-02-24T00:36:06.056Z"
   },
   {
    "duration": 5,
    "start_time": "2025-02-24T00:36:06.108Z"
   },
   {
    "duration": 2,
    "start_time": "2025-02-24T00:36:06.114Z"
   },
   {
    "duration": 3,
    "start_time": "2025-02-24T00:36:06.118Z"
   },
   {
    "duration": 11,
    "start_time": "2025-02-24T00:36:06.123Z"
   },
   {
    "duration": 5,
    "start_time": "2025-02-24T00:36:06.135Z"
   },
   {
    "duration": 3,
    "start_time": "2025-02-24T00:36:06.141Z"
   },
   {
    "duration": 2,
    "start_time": "2025-02-24T00:36:06.146Z"
   },
   {
    "duration": 5,
    "start_time": "2025-02-24T00:36:06.150Z"
   },
   {
    "duration": 56,
    "start_time": "2025-02-24T00:36:06.157Z"
   },
   {
    "duration": 11,
    "start_time": "2025-02-24T00:36:06.215Z"
   },
   {
    "duration": 9,
    "start_time": "2025-02-24T00:36:06.227Z"
   },
   {
    "duration": 9,
    "start_time": "2025-02-24T00:36:06.238Z"
   },
   {
    "duration": 14,
    "start_time": "2025-02-24T00:36:06.251Z"
   },
   {
    "duration": 5,
    "start_time": "2025-02-24T00:36:06.266Z"
   },
   {
    "duration": 42,
    "start_time": "2025-02-24T00:36:06.273Z"
   },
   {
    "duration": 214,
    "start_time": "2025-02-24T00:36:06.317Z"
   },
   {
    "duration": 209,
    "start_time": "2025-02-24T00:36:06.532Z"
   },
   {
    "duration": 7,
    "start_time": "2025-02-24T00:36:06.743Z"
   },
   {
    "duration": 176,
    "start_time": "2025-02-24T00:36:06.751Z"
   },
   {
    "duration": 202,
    "start_time": "2025-02-24T00:36:06.929Z"
   },
   {
    "duration": 217,
    "start_time": "2025-02-24T00:36:07.133Z"
   },
   {
    "duration": 204,
    "start_time": "2025-02-24T00:36:07.352Z"
   },
   {
    "duration": 196,
    "start_time": "2025-02-24T00:36:07.558Z"
   },
   {
    "duration": 139,
    "start_time": "2025-02-24T00:36:07.755Z"
   },
   {
    "duration": 97,
    "start_time": "2025-02-24T00:36:07.896Z"
   },
   {
    "duration": 193,
    "start_time": "2025-02-24T00:36:07.994Z"
   },
   {
    "duration": 111,
    "start_time": "2025-02-24T00:36:08.189Z"
   },
   {
    "duration": 11,
    "start_time": "2025-02-24T00:36:08.301Z"
   },
   {
    "duration": 14,
    "start_time": "2025-02-24T00:36:08.314Z"
   },
   {
    "duration": 795,
    "start_time": "2025-02-24T00:37:58.886Z"
   },
   {
    "duration": 163,
    "start_time": "2025-02-24T00:37:59.683Z"
   },
   {
    "duration": 49,
    "start_time": "2025-02-24T00:37:59.848Z"
   },
   {
    "duration": 16,
    "start_time": "2025-02-24T00:37:59.900Z"
   },
   {
    "duration": 36,
    "start_time": "2025-02-24T00:37:59.917Z"
   },
   {
    "duration": 18,
    "start_time": "2025-02-24T00:37:59.955Z"
   },
   {
    "duration": 9,
    "start_time": "2025-02-24T00:37:59.975Z"
   },
   {
    "duration": 5,
    "start_time": "2025-02-24T00:38:00.009Z"
   },
   {
    "duration": 3,
    "start_time": "2025-02-24T00:38:00.016Z"
   },
   {
    "duration": 2,
    "start_time": "2025-02-24T00:38:00.023Z"
   },
   {
    "duration": 11,
    "start_time": "2025-02-24T00:38:00.026Z"
   },
   {
    "duration": 3,
    "start_time": "2025-02-24T00:38:00.039Z"
   },
   {
    "duration": 3,
    "start_time": "2025-02-24T00:38:00.044Z"
   },
   {
    "duration": 2,
    "start_time": "2025-02-24T00:38:00.049Z"
   },
   {
    "duration": 10,
    "start_time": "2025-02-24T00:38:00.053Z"
   },
   {
    "duration": 4,
    "start_time": "2025-02-24T00:38:00.064Z"
   },
   {
    "duration": 3,
    "start_time": "2025-02-24T00:38:00.109Z"
   },
   {
    "duration": 2,
    "start_time": "2025-02-24T00:38:00.114Z"
   },
   {
    "duration": 10,
    "start_time": "2025-02-24T00:38:00.118Z"
   },
   {
    "duration": 5,
    "start_time": "2025-02-24T00:38:00.130Z"
   },
   {
    "duration": 2,
    "start_time": "2025-02-24T00:38:00.137Z"
   },
   {
    "duration": 3,
    "start_time": "2025-02-24T00:38:00.140Z"
   },
   {
    "duration": 6,
    "start_time": "2025-02-24T00:38:00.145Z"
   },
   {
    "duration": 16,
    "start_time": "2025-02-24T00:38:00.152Z"
   },
   {
    "duration": 12,
    "start_time": "2025-02-24T00:38:00.209Z"
   },
   {
    "duration": 10,
    "start_time": "2025-02-24T00:38:00.223Z"
   },
   {
    "duration": 9,
    "start_time": "2025-02-24T00:38:00.234Z"
   },
   {
    "duration": 14,
    "start_time": "2025-02-24T00:38:00.247Z"
   },
   {
    "duration": 6,
    "start_time": "2025-02-24T00:38:00.262Z"
   },
   {
    "duration": 44,
    "start_time": "2025-02-24T00:38:00.269Z"
   },
   {
    "duration": 209,
    "start_time": "2025-02-24T00:38:00.315Z"
   },
   {
    "duration": 191,
    "start_time": "2025-02-24T00:38:00.526Z"
   },
   {
    "duration": 7,
    "start_time": "2025-02-24T00:38:00.718Z"
   },
   {
    "duration": 170,
    "start_time": "2025-02-24T00:38:00.726Z"
   },
   {
    "duration": 198,
    "start_time": "2025-02-24T00:38:00.898Z"
   },
   {
    "duration": 199,
    "start_time": "2025-02-24T00:38:01.098Z"
   },
   {
    "duration": 186,
    "start_time": "2025-02-24T00:38:01.299Z"
   },
   {
    "duration": 213,
    "start_time": "2025-02-24T00:38:01.487Z"
   },
   {
    "duration": 120,
    "start_time": "2025-02-24T00:38:01.701Z"
   },
   {
    "duration": 108,
    "start_time": "2025-02-24T00:38:01.822Z"
   },
   {
    "duration": 190,
    "start_time": "2025-02-24T00:38:01.931Z"
   },
   {
    "duration": 120,
    "start_time": "2025-02-24T00:38:02.122Z"
   },
   {
    "duration": 7,
    "start_time": "2025-02-24T00:38:02.244Z"
   },
   {
    "duration": 14,
    "start_time": "2025-02-24T00:38:02.252Z"
   }
  ],
  "colab": {
   "provenance": []
  },
  "kernelspec": {
   "display_name": "Python 3 (ipykernel)",
   "language": "python",
   "name": "python3"
  },
  "language_info": {
   "codemirror_mode": {
    "name": "ipython",
    "version": 3
   },
   "file_extension": ".py",
   "mimetype": "text/x-python",
   "name": "python",
   "nbconvert_exporter": "python",
   "pygments_lexer": "ipython3",
   "version": "3.9.19"
  },
  "toc": {
   "base_numbering": 1,
   "nav_menu": {},
   "number_sections": true,
   "sideBar": true,
   "skip_h1_title": false,
   "title_cell": "Table of Contents",
   "title_sidebar": "Contents",
   "toc_cell": false,
   "toc_position": {},
   "toc_section_display": true,
   "toc_window_display": true
  }
 },
 "nbformat": 4,
 "nbformat_minor": 1
}
